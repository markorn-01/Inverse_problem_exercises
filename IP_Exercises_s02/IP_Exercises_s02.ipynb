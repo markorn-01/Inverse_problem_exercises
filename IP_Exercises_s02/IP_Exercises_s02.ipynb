{
 "cells": [
  {
   "cell_type": "markdown",
   "id": "ecf3d23f",
   "metadata": {
    "deletable": false,
    "editable": false,
    "nbgrader": {
     "cell_type": "markdown",
     "checksum": "85034c1396a5b8c4da22d60e37f0c3b4",
     "grade": false,
     "grade_id": "cell-49b24469f46dfeca",
     "locked": true,
     "schema_version": 3,
     "solution": false,
     "task": false
    }
   },
   "source": [
    "# Inverse Problems Exercises: 2024s s02 (non-sc)\n",
    "https://www.umm.uni-heidelberg.de/miism/"
   ]
  },
  {
   "cell_type": "markdown",
   "id": "31172a8b",
   "metadata": {
    "deletable": false,
    "editable": false,
    "nbgrader": {
     "cell_type": "markdown",
     "checksum": "9d0c7282bb8a5e44eca932c93a97e67d",
     "grade": false,
     "grade_id": "cell-10af282f1bc543a0",
     "locked": true,
     "schema_version": 3,
     "solution": false,
     "task": false
    }
   },
   "source": [
    "## Notes\n",
    "* Please **DO NOT** change the name of the `.ipynb` file. \n",
    "* Please **DO NOT** import extra packages to solve the tasks. \n",
    "* Please put the `.ipynb` file directly into the `.zip` archive without any intermediate folder. "
   ]
  },
  {
   "cell_type": "markdown",
   "id": "bc6444af",
   "metadata": {
    "deletable": false,
    "editable": false,
    "nbgrader": {
     "cell_type": "markdown",
     "checksum": "577de3d815a5433df6d24b2edf6f4512",
     "grade": false,
     "grade_id": "cell-25297d00d0806932",
     "locked": true,
     "schema_version": 3,
     "solution": false,
     "task": false
    }
   },
   "source": [
    "## Please provide your personal information\n",
    "* full name (Name): Quang Minh, Ngo"
   ]
  },
  {
   "cell_type": "markdown",
   "id": "72ad1b85",
   "metadata": {
    "deletable": false,
    "nbgrader": {
     "cell_type": "markdown",
     "checksum": "6ed66fd19bab168d80c4865c274aecd5",
     "grade": true,
     "grade_id": "cell-2d2bf14a246580e7",
     "locked": false,
     "points": 0,
     "schema_version": 3,
     "solution": true,
     "task": false
    }
   },
   "source": [
    "YOUR ANSWER HERE"
   ]
  },
  {
   "cell_type": "markdown",
   "id": "e7633a76",
   "metadata": {
    "deletable": false,
    "editable": false,
    "nbgrader": {
     "cell_type": "markdown",
     "checksum": "b44f9e046efcd352f88660deaa05586b",
     "grade": false,
     "grade_id": "cell-604bd41ff4ff164a",
     "locked": true,
     "schema_version": 3,
     "solution": false,
     "task": false
    }
   },
   "source": [
    "## I06: Convolution theorem"
   ]
  },
  {
   "cell_type": "code",
   "execution_count": null,
   "id": "f7cc53d1",
   "metadata": {
    "deletable": false,
    "editable": false,
    "nbgrader": {
     "cell_type": "code",
     "checksum": "22dfb426b72e291e21cb61896a2862ef",
     "grade": false,
     "grade_id": "cell-ef4b2363e696259c",
     "locked": true,
     "schema_version": 3,
     "solution": false,
     "task": false
    }
   },
   "outputs": [],
   "source": [
    "import numpy as np\n",
    "import matplotlib.pyplot as plt\n",
    "\n",
    "from scipy.linalg import toeplitz"
   ]
  },
  {
   "cell_type": "code",
   "execution_count": null,
   "id": "168ce155",
   "metadata": {
    "deletable": false,
    "editable": false,
    "nbgrader": {
     "cell_type": "code",
     "checksum": "4aeb0096b65f8d006b283568171a3a29",
     "grade": false,
     "grade_id": "cell-8cff27e263f1f3c6",
     "locked": true,
     "schema_version": 3,
     "solution": false,
     "task": false
    }
   },
   "outputs": [],
   "source": [
    "from urllib.request import urlopen\n",
    "import matplotlib.image as mpimg\n",
    "\n",
    "# create a file-like object from the url\n",
    "file_input = urlopen('https://upload.wikimedia.org/wikipedia/commons/thumb/1/12/Grayscale_Cat.jpg/320px-Grayscale_Cat.jpg')\n",
    "\n",
    "# load the input image\n",
    "image_input = mpimg.imread(file_input, 'jpg')\n",
    "\n",
    "# pick the central line as signal f\n",
    "f_true = image_input[image_input.shape[0] // 2, :]"
   ]
  },
  {
   "cell_type": "markdown",
   "id": "97dd4e48",
   "metadata": {
    "deletable": false,
    "editable": false,
    "nbgrader": {
     "cell_type": "markdown",
     "checksum": "49ae00b72d836eae4a8392184dd1b596",
     "grade": false,
     "grade_id": "cell-4924e2a0ac88d135",
     "locked": true,
     "schema_version": 3,
     "solution": false,
     "task": false
    }
   },
   "source": [
    "### Imaging model\n",
    "The imaging model can be represented by\n",
    "$$\n",
    "g = h \\otimes f_\\text{true} = Af_\\text{true} = \\mathcal{F}^{-1}\\{ \\mathcal{F}\\{h\\} \\mathcal{F}\\{f_\\text{true}\\} \\} .\n",
    "$$\n",
    "* $f_\\text{true}$ is the input signal\n",
    "* $h$ is the point spread function (kernel)\n",
    "* $\\otimes$ is the convolution operator\n",
    "* $A$ is the Toeplitz matrix of $h$\n",
    "* $\\mathcal{F}$ and $\\mathcal{F}^{-1}$ are the Fourier transform operator and inverse Fourier transform operator\n",
    "* $g$ is the output signal"
   ]
  },
  {
   "cell_type": "markdown",
   "id": "351f8fd0",
   "metadata": {
    "deletable": false,
    "editable": false,
    "nbgrader": {
     "cell_type": "markdown",
     "checksum": "ca14dde62d897317a16eba16ba0d39b1",
     "grade": false,
     "grade_id": "cell-97e7d9915e8c51ef",
     "locked": true,
     "schema_version": 3,
     "solution": false,
     "task": false
    }
   },
   "source": [
    "### Gaussian kernel\n",
    "Implement the Gaussian kernel function $h$\n",
    "* Given the standard deviation of the Gaussian $\\sigma_h$\n",
    "* Given the kernel size $s_h$\n",
    "* Define the origin of the kernels in the middle of the array\n",
    "* Normalize the kernel, i.e. the sum of the kernel elements equals to $1$\n",
    "* Implement the function `get_gaussian_1d()` (using `numpy.array`)\n",
    "  \n",
    "Generate the Gaussian kernels\n",
    "* Parameter options of $(\\sigma_h, s_h)$\n",
    "  - (1, 5)\n",
    "  - (4, 21)\n",
    "  - (7, 35)\n",
    "  - (20, 35)\n",
    "* Save the outputs in the variable `list_h_psf` (as `list` of `numpy.array`)\n",
    "\n",
    "Display the result\n",
    "* Plot the kernels in `list_h_psf` in the same order of the parameter options in the axes `ax`\n",
    "* Show the legend in the axes `ax`"
   ]
  },
  {
   "cell_type": "code",
   "execution_count": null,
   "id": "263da83d",
   "metadata": {
    "deletable": false,
    "nbgrader": {
     "cell_type": "code",
     "checksum": "0470153441a7478cfefcf15aa0750fc7",
     "grade": false,
     "grade_id": "a000",
     "locked": false,
     "schema_version": 3,
     "solution": true,
     "task": false
    }
   },
   "outputs": [],
   "source": [
    "def get_gaussian_1d(sigma, kernel_size):\n",
    "    \"\"\" Returns a gaussian kernel, with a specified kernel size.\n",
    "    Low pass (blurring) kernel.\n",
    "\n",
    "    :param sigma: Standard deviation of the Gaussian function.\n",
    "    :param kernel_size: Kernel size.\n",
    "    :returns: normalized Gaussian kernel.\n",
    "    \"\"\"\n",
    "\n",
    "    # Define the origin of the kernel in the middle of the array\n",
    "    x = np.arange(-kernel_size//2 + 1, kernel_size//2 + 1)\n",
    "    \n",
    "    # Compute the Gaussian kernel\n",
    "    kernel = 1 / (np.sqrt(2 * np.pi) * sigma) * np.exp(-(x**2) /(2 * sigma**2))\n",
    "\n",
    "    # Normalize the kernel\n",
    "    kernel /= np.sum(kernel)\n",
    "    \n",
    "    return kernel\n",
    "\n",
    "# Define the parameters for the Gaussian kernel\n",
    "parameter_options = [(1, 5), (4, 21), (7, 35), (20, 35)]\n",
    "\n",
    "# Create a list of Gaussian kernels\n",
    "list_h_psf = [get_gaussian_1d(sigma, kernel_size) for sigma, kernel_size in parameter_options]\n",
    "\n",
    "# Create a figure and an axes\n",
    "fig, ax = plt.subplots()\n",
    "for i, h in enumerate(list_h_psf):\n",
    "    ax.plot(h, label=f'$\\sigma$={parameter_options[i][0]}, size={parameter_options[i][1]}') \n",
    "\n",
    "ax.set_title('Gaussian kernel')\n",
    "ax.set_xlabel('Index')\n",
    "ax.set_ylabel('Value')\n",
    "ax.legend()\n",
    "plt.show()"
   ]
  },
  {
   "cell_type": "code",
   "execution_count": null,
   "id": "bb24adb0",
   "metadata": {
    "deletable": false,
    "editable": false,
    "nbgrader": {
     "cell_type": "code",
     "checksum": "561baf58c1051776643b52fcc479cc7e",
     "grade": true,
     "grade_id": "005",
     "locked": true,
     "points": 5,
     "schema_version": 3,
     "solution": false,
     "task": false
    }
   },
   "outputs": [],
   "source": [
    "# This cell contains hidden tests.\n"
   ]
  },
  {
   "cell_type": "code",
   "execution_count": null,
   "id": "41d988a8",
   "metadata": {
    "deletable": false,
    "editable": false,
    "nbgrader": {
     "cell_type": "code",
     "checksum": "a8b0dec8effc44f7862ad9997bef0210",
     "grade": true,
     "grade_id": "a010",
     "locked": true,
     "points": 5,
     "schema_version": 3,
     "solution": false,
     "task": false
    }
   },
   "outputs": [],
   "source": [
    "# This cell contains hidden tests.\n"
   ]
  },
  {
   "cell_type": "markdown",
   "id": "c45ee754",
   "metadata": {
    "deletable": false,
    "editable": false,
    "nbgrader": {
     "cell_type": "markdown",
     "checksum": "f8c5df6825db0a7fab9b08eb0258330c",
     "grade": false,
     "grade_id": "cell-0d0dff9797dadeed",
     "locked": true,
     "schema_version": 3,
     "solution": false,
     "task": false
    }
   },
   "source": [
    "### Convolution operation\n",
    "Convolution with the Gaussian kernels $g = h \\otimes f_\\text{true}$ (using `numpy.convolve()`)\n",
    "* Apply the kernels in `list_h_psf` to `f_true`\n",
    "* Return the outputs with the same length as `f_true`\n",
    "* Save the outputs in the variable `list_g_cov` (as `list` of `numpy.array`)\n",
    "\n",
    "Display the result\n",
    "* Plot the outputs in `list_g_cov` in the same order of the parameter options in the axes `ax`\n",
    "* Plot `f_true` in the axes `ax` (after `list_g_cov`)\n",
    "* Show the legend in the axes `ax`"
   ]
  },
  {
   "cell_type": "code",
   "execution_count": null,
   "id": "29d35fc0",
   "metadata": {
    "deletable": false,
    "nbgrader": {
     "cell_type": "code",
     "checksum": "f3227125e8606af40758f1215c7436b4",
     "grade": false,
     "grade_id": "cell-3b076da606f1b063",
     "locked": false,
     "schema_version": 3,
     "solution": true,
     "task": false
    }
   },
   "outputs": [],
   "source": [
    "# Calculate the convolution of the signal f with the Gaussian kernel h\n",
    "list_g_cov = [np.convolve(h, f_true, mode=\"full\") for h in list_h_psf]\n",
    "list_g_cov = [g_cov[:len(f_true)] for g_cov in list_g_cov]\n",
    "# Create a figure and an axes.\n",
    "fig, ax = plt.subplots(1, 1, figsize = (15, 3))\n",
    "\n",
    "# Plot the outputs of the convolution\n",
    "for i, g in enumerate(list_g_cov):\n",
    "    ax.plot(g, label=f'$\\sigma$={parameter_options[i][0]}, size={parameter_options[i][1]}')\n",
    "    \n",
    "# Plot the original signal\n",
    "ax.plot(f_true, label='Original signal', linestyle='--', color='purple')\n",
    "ax.set_title('Convolution output')\n",
    "ax.set_xlabel('Index')\n",
    "ax.set_ylabel('Value')\n",
    "ax.legend()\n",
    "plt.show()"
   ]
  },
  {
   "cell_type": "code",
   "execution_count": null,
   "id": "98c3ca5f",
   "metadata": {
    "deletable": false,
    "editable": false,
    "nbgrader": {
     "cell_type": "code",
     "checksum": "1baebacf27f7ec8062e56282f5574280",
     "grade": true,
     "grade_id": "a020",
     "locked": true,
     "points": 10,
     "schema_version": 3,
     "solution": false,
     "task": false
    }
   },
   "outputs": [],
   "source": [
    "# This cell contains hidden tests.\n"
   ]
  },
  {
   "cell_type": "markdown",
   "id": "32ce22df",
   "metadata": {
    "deletable": false,
    "editable": false,
    "nbgrader": {
     "cell_type": "markdown",
     "checksum": "7330357b22adeba420b69ff57b3f7715",
     "grade": false,
     "grade_id": "cell-6729556045bc4b70",
     "locked": true,
     "schema_version": 3,
     "solution": false,
     "task": false
    }
   },
   "source": [
    "### Toeplitz matrix\n",
    "See: https://en.wikipedia.org/wiki/Toeplitz_matrix#Discrete_convolution\n",
    "\n",
    "Implement the Toeplitz matrix $A$ corresponding to $h$ (using `scipy.linalg.toeplitz()` optionally)\n",
    "  - Given $h$\n",
    "  - Given signal size $s_f$\n",
    "  - Take the zero-padding option, i.e the input array values outside the bounds of the array are assigned $0$\n",
    "  - Implement the function `get_convolution_matrix()` (using `numpy.array`)\n",
    "  \n",
    "Generate the Toeplitz matrices\n",
    "* Return the outputs of each kernel in `list_h_psf` for `f_true`\n",
    "* Save the outputs in the variable `list_A_psf` (as `list` of `numpy.array`)\n",
    "\n",
    "Display the result\n",
    "* Plot the matrices in `list_A_psf` as grayscale images in the same order of the parameter options in the subplots of `axs`\n",
    "* Add proper titles to the subplots of `axs`"
   ]
  },
  {
   "cell_type": "code",
   "execution_count": null,
   "id": "b16ac782",
   "metadata": {
    "deletable": false,
    "nbgrader": {
     "cell_type": "code",
     "checksum": "1810f83979ec62a2d0b6726608b64c7b",
     "grade": false,
     "grade_id": "cell-478ea0a7bdde92fa",
     "locked": false,
     "schema_version": 3,
     "solution": true,
     "task": false
    }
   },
   "outputs": [],
   "source": [
    "def get_convolution_matrix(kernel, n):\n",
    "    \"\"\" Create a Toeplitz matrix for discrete 1d convolution.\n",
    "\n",
    "    :param kernel: 1d convolution kernel.\n",
    "    :param n: Size of the signal, which should be convolved with the kernel.\n",
    "    :returns: 2d matrix of size (n,n) for convolution by matrix-vector multiplication.\n",
    "    \"\"\"\n",
    "    # Pad the kernel with zeros\n",
    "    zero_padded = np.pad(kernel, (0, n - len(kernel)), mode='constant', constant_values=0)\n",
    "\n",
    "    # Create the Toeplitz matrix\n",
    "    convolution_matrix = toeplitz(zero_padded, np.zeros(n))\n",
    "    return convolution_matrix\n",
    "\n",
    "# Create a Toeplitz matrix list for each Gaussian kernel\n",
    "list_A_psf = [get_convolution_matrix(h, len(f_true)) for h in list_h_psf]\n",
    "print(list_h_psf[0].shape)\n",
    "# Create a figure and an axes.\n",
    "fig, axs = plt.subplots(2, 2, figsize=(10, 10))\n",
    "for i, A in enumerate(list_A_psf):\n",
    "    ax = axs[i // 2, i % 2]\n",
    "    ax.imshow(A, cmap='gray')\n",
    "    ax.set_title(f'$\\sigma$={parameter_options[i][0]}, size={parameter_options[i][1]}')\n",
    "    \n",
    "fig.suptitle('Toeplitz matrix')\n",
    "plt.tight_layout()\n",
    "plt.show()\n"
   ]
  },
  {
   "cell_type": "code",
   "execution_count": null,
   "id": "5ba02098",
   "metadata": {
    "deletable": false,
    "editable": false,
    "nbgrader": {
     "cell_type": "code",
     "checksum": "f70b08d43eaa1febab08e29498daa515",
     "grade": true,
     "grade_id": "a030",
     "locked": true,
     "points": 10,
     "schema_version": 3,
     "solution": false,
     "task": false
    }
   },
   "outputs": [],
   "source": [
    "# This cell contains hidden tests.\n"
   ]
  },
  {
   "cell_type": "code",
   "execution_count": null,
   "id": "02a1fac4",
   "metadata": {
    "deletable": false,
    "editable": false,
    "nbgrader": {
     "cell_type": "code",
     "checksum": "c3722e0101d70701f25a67d02eda7ead",
     "grade": true,
     "grade_id": "a035",
     "locked": true,
     "points": 5,
     "schema_version": 3,
     "solution": false,
     "task": false
    }
   },
   "outputs": [],
   "source": [
    "# This cell contains hidden tests.\n"
   ]
  },
  {
   "cell_type": "markdown",
   "id": "4cd4fd07",
   "metadata": {
    "deletable": false,
    "editable": false,
    "nbgrader": {
     "cell_type": "markdown",
     "checksum": "6a599329cc3003bf0d78f9a4de98cbbc",
     "grade": false,
     "grade_id": "cell-ffa29201c72ab528",
     "locked": true,
     "schema_version": 3,
     "solution": false,
     "task": false
    }
   },
   "source": [
    "### Convolution with the Toeplitz matrix \n",
    "Convolution with the Toeplitz matrix $g = Af_\\text{true}$\n",
    "* Apply the Toeplitz matrix in `list_A_psf` to `f_true`\n",
    "* Save the outputs in the variable `list_g_toe` (as `list` of `numpy.array`)\n",
    "\n",
    "Display the result\n",
    "* Plot the outputs in `list_g_toe` in the same order of the parameter options in the axes `ax`\n",
    "* Plot `f_true` in the axes `ax` (after `list_g_toe`)\n",
    "* Show the legend in the axes `ax`"
   ]
  },
  {
   "cell_type": "code",
   "execution_count": null,
   "id": "425f8639",
   "metadata": {
    "deletable": false,
    "nbgrader": {
     "cell_type": "code",
     "checksum": "ccc5a803422a1c3e2c1892a4735fe53b",
     "grade": false,
     "grade_id": "cell-6d340c1051be11e6",
     "locked": false,
     "schema_version": 3,
     "solution": true,
     "task": false
    }
   },
   "outputs": [],
   "source": [
    "# Calculate the convolution of the signal f with the Gaussian kernel h using matrix-vector multiplication\n",
    "list_g_toe = [np.dot(A, f_true) for A in list_A_psf]\n",
    "\n",
    "# Create a figure and an axes.\n",
    "fig, ax = plt.subplots(1, 1, figsize = (15, 3))\n",
    "for i, g in enumerate(list_g_toe):\n",
    "    ax.plot(g, label=f'$\\sigma$={parameter_options[i][0]}, size={parameter_options[i][1]}')\n",
    "\n",
    "# Plot the original signal\n",
    "ax.plot(f_true, label='Original signal', linestyle='--', color='purple')\n",
    "\n",
    "# Set the title and labels\n",
    "ax.set_title('Convolution with the Toeplitz matrix')\n",
    "ax.set_xlabel('Index')\n",
    "ax.set_ylabel('Value')\n",
    "ax.legend()\n",
    "plt.show()"
   ]
  },
  {
   "cell_type": "code",
   "execution_count": null,
   "id": "ff55f4bc",
   "metadata": {
    "deletable": false,
    "editable": false,
    "nbgrader": {
     "cell_type": "code",
     "checksum": "0268730dab168f3e23efbddd387e8ec7",
     "grade": true,
     "grade_id": "a045",
     "locked": true,
     "points": 10,
     "schema_version": 3,
     "solution": false,
     "task": false
    }
   },
   "outputs": [],
   "source": [
    "# This cell contains hidden tests.\n"
   ]
  },
  {
   "cell_type": "code",
   "execution_count": null,
   "id": "b6bd1dc3",
   "metadata": {
    "deletable": false,
    "editable": false,
    "nbgrader": {
     "cell_type": "code",
     "checksum": "da002429ee1e143bb986797e5b59dfdd",
     "grade": true,
     "grade_id": "a050",
     "locked": true,
     "points": 5,
     "schema_version": 3,
     "solution": false,
     "task": false
    }
   },
   "outputs": [],
   "source": [
    "# This cell contains tests.\n",
    "\n",
    "for g_cov, g_toe in zip(list_g_cov, list_g_toe):\n",
    "    np.testing.assert_almost_equal(g_cov, g_toe) # zero-padding"
   ]
  },
  {
   "cell_type": "markdown",
   "id": "0b31f7f1",
   "metadata": {
    "deletable": false,
    "editable": false,
    "nbgrader": {
     "cell_type": "markdown",
     "checksum": "86b158d880cf161813fcc65b1cc859df",
     "grade": false,
     "grade_id": "cell-cd2c00a3785928e3",
     "locked": true,
     "schema_version": 3,
     "solution": false,
     "task": false
    }
   },
   "source": [
    "### Question: Matrix expression\n",
    "* What's the advantage to use the matrix expression of convolution $g = Af_\\text{true}$ for inverse problems?"
   ]
  },
  {
   "cell_type": "markdown",
   "id": "7bdce22d",
   "metadata": {
    "deletable": false,
    "nbgrader": {
     "cell_type": "markdown",
     "checksum": "42322e15270f4c16e8070aa766c7809b",
     "grade": true,
     "grade_id": "a060",
     "locked": false,
     "points": 10,
     "schema_version": 3,
     "solution": true,
     "task": false
    }
   },
   "source": [
    "YOUR ANSWER HERE\n",
    "* The matrix expression makes computation simple, facilitates reusable, and supports parallelization (across multiple cores or GPUs efficiently), improves numerical stability, and possibly integrates with available frameworks."
   ]
  },
  {
   "cell_type": "markdown",
   "id": "ec1b097b",
   "metadata": {
    "deletable": false,
    "editable": false,
    "nbgrader": {
     "cell_type": "markdown",
     "checksum": "1972c0994d493f9476765e1ee8b4bc51",
     "grade": false,
     "grade_id": "cell-d23ecd7bc133ee1b",
     "locked": true,
     "schema_version": 3,
     "solution": false,
     "task": false
    }
   },
   "source": [
    "### Fourier transform\n",
    "Fourier transform of the Gaussian kernels $\\mathcal{F}\\{h\\}$ (using `numpy.fft.fft()`)\n",
    "* Pad zeros to both sides of the kernels in `list_h_psf`\n",
    "* Adjust the kernels as long as `f_true`\n",
    "* Shift the origin of the kernels to the first element of the array\n",
    "* Apply the Fourier transform to the shifted padded kernels\n",
    "* Save the outputs in the variable `list_h_fft` (as `list` of `numpy.array`)\n",
    "\n",
    "Display the result\n",
    "* Plot the absolute value of the outputs in `list_h_fft` in the same order of the parameter options in the axes `ax`\n",
    "* Plot the outputs properly in the frequency domain\n",
    "* Show the legend in the axes `ax`"
   ]
  },
  {
   "cell_type": "code",
   "execution_count": null,
   "id": "de1f2110",
   "metadata": {
    "deletable": false,
    "nbgrader": {
     "cell_type": "code",
     "checksum": "21ec7f5d98c7815ef776d1ab0c1b63c4",
     "grade": false,
     "grade_id": "cell-2ac5c2e988a69826",
     "locked": false,
     "schema_version": 3,
     "solution": true,
     "task": false
    }
   },
   "outputs": [],
   "source": [
    "def compute_fourier_transform(kernel, n):\n",
    "    \"\"\"Compute the Fourier transform of the kernel.\"\"\"\n",
    "    # Pad zeros to both sides of the kernel\n",
    "    pad_width = n - len(kernel)\n",
    "    padded_kernel = np.pad(kernel, (pad_width//2, pad_width//2+1), mode='constant', constant_values=0)\n",
    "\n",
    "    # Shift the origin of the kernel to the first element of the array\n",
    "    shifted_kernel = np.roll(padded_kernel, -pad_width//2+1)\n",
    "\n",
    "    # Compute the Fourier transform\n",
    "    fft_kernel = np.fft.fft(shifted_kernel)\n",
    "    \n",
    "    return fft_kernel\n",
    "\n",
    "# Compute Fourier transform for each Gaussian kernel in list_h_ps\n",
    "list_h_fft = [compute_fourier_transform(h, len(f_true)) for h in list_h_psf]\n",
    "\n",
    "# Create a figure and an axes.\n",
    "fig, ax = plt.subplots(1, 1, figsize = (15, 3))\n",
    "for i, h_fft in enumerate(list_h_fft):\n",
    "    ax.plot(np.abs(h_fft), label=f'$\\sigma$={parameter_options[i][0]}, size={parameter_options[i][1]}')\n",
    "\n",
    "ax.set_title('Fourier transform')\n",
    "ax.set_xlabel('Frequency')\n",
    "ax.set_ylabel('Magnitude')\n",
    "ax.legend()\n",
    "plt.show()"
   ]
  },
  {
   "cell_type": "code",
   "execution_count": null,
   "id": "a4c3e8cb",
   "metadata": {
    "deletable": false,
    "editable": false,
    "nbgrader": {
     "cell_type": "code",
     "checksum": "d2ff4b7c9de801a9cc1dd9e59a424ee0",
     "grade": true,
     "grade_id": "070",
     "locked": true,
     "points": 10,
     "schema_version": 3,
     "solution": false,
     "task": false
    }
   },
   "outputs": [],
   "source": [
    "# This cell contains hidden tests.\n"
   ]
  },
  {
   "cell_type": "code",
   "execution_count": null,
   "id": "5d28207b",
   "metadata": {
    "deletable": false,
    "editable": false,
    "nbgrader": {
     "cell_type": "code",
     "checksum": "d00ad1ff0f39bd0b7fcdaf2c0d04b98d",
     "grade": true,
     "grade_id": "a075",
     "locked": true,
     "points": 5,
     "schema_version": 3,
     "solution": false,
     "task": false
    }
   },
   "outputs": [],
   "source": [
    "# This cell contains hidden tests.\n"
   ]
  },
  {
   "cell_type": "markdown",
   "id": "e59090ea",
   "metadata": {
    "deletable": false,
    "editable": false,
    "nbgrader": {
     "cell_type": "markdown",
     "checksum": "15bc9e8e21abfb5d6896928903610146",
     "grade": false,
     "grade_id": "cell-8fedce2b826d75b0",
     "locked": true,
     "schema_version": 3,
     "solution": false,
     "task": false
    }
   },
   "source": [
    "### Convolution with the Fourier transform\n",
    "Convolution with the Fourier transform $g = \\mathcal{F}^{-1}\\{ \\mathcal{F}\\{h\\} \\mathcal{F}\\{f_\\text{true}\\} \\}$\n",
    "* Apply the transformed kernels in `list_h_fft` to `f_true`\n",
    "* Return the absolute value of the inverse transform\n",
    "* Save the outputs in the variable `list_g_dft` (as `list` of `numpy.array`)\n",
    "\n",
    "Display the result\n",
    "* Plot the outputs in `list_g_dft` in the same order of the parameter options in the axes `ax`\n",
    "* Plot `f_true` in the axes `ax` (after `list_g_dft`)\n",
    "* Show the legend in the axes `ax`"
   ]
  },
  {
   "cell_type": "code",
   "execution_count": null,
   "id": "cc32aa6b",
   "metadata": {
    "deletable": false,
    "nbgrader": {
     "cell_type": "code",
     "checksum": "3b01bd036354db117ecc7a7b4d4615e2",
     "grade": false,
     "grade_id": "cell-f4a1a2e28af36ad6",
     "locked": false,
     "schema_version": 3,
     "solution": true,
     "task": false
    }
   },
   "outputs": [],
   "source": [
    "# Calculate the convolution of the signal f with the Gaussian kernel h using the Fourier transform\n",
    "list_g_dft = [np.array(np.fft.ifft(np.fft.fft(f_true) * h_fft).real) for h_fft in list_h_fft]\n",
    " # Create a figure and an axes.\n",
    "fig, ax = plt.subplots(1, 1, figsize = (15, 3))\n",
    "for i, g in enumerate(list_g_dft):\n",
    "    ax.plot(g, label=f'$\\sigma$={parameter_options[i][0]}, size={parameter_options[i][1]}')\n",
    "\n",
    "# Plot the original signal\n",
    "ax.plot(f_true, label='Original signal', linestyle='--', color='purple')\n",
    "\n",
    "ax.set_title('Convolution with the Fourier transform')\n",
    "ax.set_xlabel('Index')\n",
    "ax.set_ylabel('Value')\n",
    "ax.legend()\n",
    "plt.show()\n"
   ]
  },
  {
   "cell_type": "code",
   "execution_count": null,
   "id": "df48d8d2",
   "metadata": {
    "deletable": false,
    "editable": false,
    "nbgrader": {
     "cell_type": "code",
     "checksum": "4215e17e9aa7a2d642e369ea8521613f",
     "grade": true,
     "grade_id": "a085",
     "locked": true,
     "points": 10,
     "schema_version": 3,
     "solution": false,
     "task": false
    }
   },
   "outputs": [],
   "source": [
    "# This cell contains hidden tests.\n"
   ]
  },
  {
   "cell_type": "code",
   "execution_count": null,
   "id": "b60b4bc6",
   "metadata": {
    "deletable": false,
    "editable": false,
    "nbgrader": {
     "cell_type": "code",
     "checksum": "2cf703119329dd96bfb80dadf2f1d550",
     "grade": true,
     "grade_id": "a90",
     "locked": true,
     "points": 5,
     "schema_version": 3,
     "solution": false,
     "task": false
    }
   },
   "outputs": [],
   "source": [
    "# This cell contains tests.\n",
    "\n",
    "for g_cov, g_dft in zip(list_g_cov, list_g_dft):\n",
    "    np.testing.assert_almost_equal(g_cov[40:-40], g_dft[40:-40]) # with boundary effects"
   ]
  },
  {
   "cell_type": "markdown",
   "id": "0f4f1fd3",
   "metadata": {
    "deletable": false,
    "editable": false,
    "nbgrader": {
     "cell_type": "markdown",
     "checksum": "97d5873871b5895fe2adc1c385968ab8",
     "grade": false,
     "grade_id": "cell-793e7843ce838d97",
     "locked": true,
     "schema_version": 3,
     "solution": false,
     "task": false
    }
   },
   "source": [
    "### Question: Fourier transform\n",
    "* What's the advantage to use the Fourier transform for convolution $\\mathcal{F}\\{g\\} = \\mathcal{F}\\{h\\} \\mathcal{F}\\{f_\\text{true}\\}$ for inverse problems?"
   ]
  },
  {
   "cell_type": "markdown",
   "id": "8c6bd566",
   "metadata": {
    "deletable": false,
    "nbgrader": {
     "cell_type": "markdown",
     "checksum": "195b7079323a714b674fda7b242fa684",
     "grade": true,
     "grade_id": "a100",
     "locked": false,
     "points": 10,
     "schema_version": 3,
     "solution": true,
     "task": false
    }
   },
   "source": [
    "YOUR ANSWER HERE\n",
    "* Employing the Fourier transform for convolution brings many advantages, including simple processing, faster computation, flexibility for signal manipulation, translation invariance, and also efficient parallelization."
   ]
  }
 ],
 "metadata": {
  "kernelspec": {
   "display_name": "Python 3 (ipykernel)",
   "language": "python",
   "name": "python3"
  },
  "language_info": {
   "codemirror_mode": {
    "name": "ipython",
    "version": 3
   },
   "file_extension": ".py",
   "mimetype": "text/x-python",
   "name": "python",
   "nbconvert_exporter": "python",
   "pygments_lexer": "ipython3",
   "version": "3.10.14"
  }
 },
 "nbformat": 4,
 "nbformat_minor": 5
}
