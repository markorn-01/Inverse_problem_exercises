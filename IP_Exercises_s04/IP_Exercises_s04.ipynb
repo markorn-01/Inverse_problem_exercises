{
 "cells": [
  {
   "cell_type": "markdown",
   "id": "ecf3d23f",
   "metadata": {
    "deletable": false,
    "editable": false,
    "nbgrader": {
     "cell_type": "markdown",
     "checksum": "b59c91bbfc01e1a167a27c7565586fb1",
     "grade": false,
     "grade_id": "cell-49b24469f46dfeca",
     "locked": true,
     "schema_version": 3,
     "solution": false,
     "task": false
    }
   },
   "source": [
    "# Inverse Problems Exercises: 2024s s04 (non-sc)\n",
    "https://www.umm.uni-heidelberg.de/miism/"
   ]
  },
  {
   "cell_type": "markdown",
   "id": "36d141d4",
   "metadata": {
    "deletable": false,
    "editable": false,
    "nbgrader": {
     "cell_type": "markdown",
     "checksum": "53349dbcf565b46ff01659d7e237f8b5",
     "grade": false,
     "grade_id": "cell-3995ae698e0a91d7",
     "locked": true,
     "schema_version": 3,
     "solution": false,
     "task": false
    }
   },
   "source": [
    "## Notes\n",
    "* Please **DO NOT** change the name of the `.ipynb` file. \n",
    "* Please **DO NOT** import extra packages to solve the tasks. \n",
    "* Please put the `.ipynb` file directly into the `.zip` archive without any intermediate folder. "
   ]
  },
  {
   "cell_type": "markdown",
   "id": "bc6444af",
   "metadata": {
    "deletable": false,
    "editable": false,
    "nbgrader": {
     "cell_type": "markdown",
     "checksum": "577de3d815a5433df6d24b2edf6f4512",
     "grade": false,
     "grade_id": "cell-25297d00d0806932",
     "locked": true,
     "schema_version": 3,
     "solution": false,
     "task": false
    }
   },
   "source": [
    "## Please provide your personal information\n",
    "* full name (Name): "
   ]
  },
  {
   "cell_type": "markdown",
   "id": "72ad1b85",
   "metadata": {
    "deletable": false,
    "nbgrader": {
     "cell_type": "markdown",
     "checksum": "6ed66fd19bab168d80c4865c274aecd5",
     "grade": true,
     "grade_id": "cell-2d2bf14a246580e7",
     "locked": false,
     "points": 0,
     "schema_version": 3,
     "solution": true,
     "task": false
    }
   },
   "source": [
    "YOUR ANSWER HERE"
   ]
  },
  {
   "cell_type": "markdown",
   "id": "73002e5e",
   "metadata": {
    "deletable": false,
    "editable": false,
    "nbgrader": {
     "cell_type": "markdown",
     "checksum": "088c2be4c4380f4535e94e707d566401",
     "grade": false,
     "grade_id": "cell-f1875ccbf1bb47f8",
     "locked": true,
     "schema_version": 3,
     "solution": false,
     "task": false
    }
   },
   "source": [
    "## D07: Singular value decomposition"
   ]
  },
  {
   "cell_type": "code",
   "execution_count": null,
   "id": "cd3c35d8",
   "metadata": {
    "deletable": false,
    "editable": false,
    "nbgrader": {
     "cell_type": "code",
     "checksum": "47949dc503b2cad99db7bbdc878a65f5",
     "grade": false,
     "grade_id": "cell-83d8e161fbf2ff18",
     "locked": true,
     "schema_version": 3,
     "solution": false,
     "task": false
    }
   },
   "outputs": [],
   "source": [
    "import numpy as np\n",
    "import matplotlib.pyplot as plt\n",
    "\n",
    "from numpy import linalg as LA"
   ]
  },
  {
   "cell_type": "code",
   "execution_count": null,
   "id": "9b708369",
   "metadata": {
    "deletable": false,
    "editable": false,
    "nbgrader": {
     "cell_type": "code",
     "checksum": "3e8eaab224909eca4a8a29ebe273e0fb",
     "grade": false,
     "grade_id": "cell-8d9cf6f50b630a6d",
     "locked": true,
     "schema_version": 3,
     "solution": false,
     "task": false
    }
   },
   "outputs": [],
   "source": [
    "file_gaussian = 'file_gaussian.npz'\n",
    "with np.load(file_gaussian) as data:\n",
    "    f_true = data['f_true']\n",
    "    A_psf = data['A_psf']\n",
    "    list_gn = data['list_gn']"
   ]
  },
  {
   "cell_type": "markdown",
   "id": "86c88074",
   "metadata": {
    "deletable": false,
    "editable": false,
    "nbgrader": {
     "cell_type": "markdown",
     "checksum": "204bfee0dd3bddb962844db016552568",
     "grade": false,
     "grade_id": "cell-89553368fedfc21d",
     "locked": true,
     "schema_version": 3,
     "solution": false,
     "task": false
    }
   },
   "source": [
    "### Imaging model\n",
    "The imaging model can be represented by\n",
    "$$\n",
    "g = h \\otimes f_\\text{true}\n",
    "= Af_\\text{true}\n",
    "= \\mathcal{F}^{-1}\\{ \\mathcal{F}\\{h\\} \\mathcal{F}\\{f_\\text{true}\\} \\},\n",
    "$$\n",
    "$$\n",
    "g' = g + \\epsilon.\n",
    "$$\n",
    "* $f_\\text{true}$ is the input signal\n",
    "* $h$ is the point spread function (kernel)\n",
    "* $\\otimes$ is the convolution operator\n",
    "* $A$ is the Toeplitz matrix of $h$\n",
    "* $\\mathcal{F}$ and $\\mathcal{F}^{-1}$ are the Fourier transform operator and inverse Fourier transform operator\n",
    "* $\\epsilon$ is the additive Gaussian noise\n",
    "* $g$ is the filtered signal\n",
    "* $g'$ is the noisy signal"
   ]
  },
  {
   "cell_type": "markdown",
   "id": "63abd0bc",
   "metadata": {
    "deletable": false,
    "editable": false,
    "nbgrader": {
     "cell_type": "markdown",
     "checksum": "880798661a97a0e93fdacee0924963f8",
     "grade": false,
     "grade_id": "cell-60d20f596a3f31c5",
     "locked": true,
     "schema_version": 3,
     "solution": false,
     "task": false
    }
   },
   "source": [
    "### Frobenius norm\n",
    "Implement the Frobenius norm by definition\n",
    "$$\n",
    "\\|A\\|_\\text{F} = \\sqrt{\\sum_{i}^m\\sum_{j}^n |a_{ij}|^2},\n",
    "$$\n",
    "where $A$ is an $m \\times n$ matrix. When $m = 1$ or $n = 1$, $A$ is a vector.\n",
    "* Given the matrix $A$\n",
    "* Calculate the Frobenius norm (`numpy.linalg.norm()` should NOT be used.)\n",
    "* Implement the function `frobenius_norm()`"
   ]
  },
  {
   "cell_type": "code",
   "execution_count": null,
   "id": "cbc550db",
   "metadata": {
    "deletable": false,
    "nbgrader": {
     "cell_type": "code",
     "checksum": "6142f10eec3e777b7aeb4349df51269a",
     "grade": true,
     "grade_id": "a002",
     "locked": false,
     "points": 2,
     "schema_version": 3,
     "solution": true,
     "task": false
    }
   },
   "outputs": [],
   "source": [
    "def frobenius_norm(mat_A):\n",
    "    \"\"\" Compute the Frobenius norm of the matrix:\n",
    "\n",
    "    :param mat_A: Input matrix or vector.\n",
    "    :returns: Frobenius norm.\n",
    "    \"\"\"\n",
    "# YOUR CODE HERE\n",
    "raise NotImplementedError()"
   ]
  },
  {
   "cell_type": "code",
   "execution_count": null,
   "id": "b0fafbb9",
   "metadata": {
    "deletable": false,
    "editable": false,
    "nbgrader": {
     "cell_type": "code",
     "checksum": "cac48f14f5cc26e8c2a4b49d827f5132",
     "grade": true,
     "grade_id": "a005",
     "locked": true,
     "points": 3,
     "schema_version": 3,
     "solution": false,
     "task": false
    }
   },
   "outputs": [],
   "source": [
    "# This cell contains hidden tests.\n"
   ]
  },
  {
   "cell_type": "markdown",
   "id": "fd29290f",
   "metadata": {
    "deletable": false,
    "editable": false,
    "nbgrader": {
     "cell_type": "markdown",
     "checksum": "340ec53ff9579caf52261181ab5563e4",
     "grade": false,
     "grade_id": "cell-92179fd598d70abc",
     "locked": true,
     "schema_version": 3,
     "solution": false,
     "task": false
    }
   },
   "source": [
    "### Condition number of $A$\n",
    "\n",
    "Calculate the condition number of matrix $A$\n",
    "$$\n",
    "\\operatorname{cond}_\\text{F}(A) = \\|A^{-1}\\|_\\text{F} \\|A\\|_\\text{F}\n",
    "$$\n",
    "* Apply the calculation to `A_psf`\n",
    "* Save $\\|A\\|_\\text{F}$ in the variable `norm_A_psf` (using `frobenius_norm()`)\n",
    "* Save $\\|A^{-1}\\|_\\text{F}$ in the variable `norm_A_inv` (using `frobenius_norm()`)\n",
    "* Save $\\operatorname{cond}_\\text{F}(A)$ in the variable `cond_A_psf` (`numpy.linalg.cond()` should not be used.)"
   ]
  },
  {
   "cell_type": "code",
   "execution_count": null,
   "id": "66f3939e",
   "metadata": {
    "deletable": false,
    "nbgrader": {
     "cell_type": "code",
     "checksum": "d08be523437c11f93e2392f0d9de80bb",
     "grade": true,
     "grade_id": "a007",
     "locked": false,
     "points": 2,
     "schema_version": 3,
     "solution": true,
     "task": false
    }
   },
   "outputs": [],
   "source": [
    "# YOUR CODE HERE\n",
    "raise NotImplementedError()"
   ]
  },
  {
   "cell_type": "code",
   "execution_count": null,
   "id": "88488888",
   "metadata": {
    "deletable": false,
    "editable": false,
    "nbgrader": {
     "cell_type": "code",
     "checksum": "5ba3273815eab2293ecd4af23906f77e",
     "grade": true,
     "grade_id": "a010",
     "locked": true,
     "points": 3,
     "schema_version": 3,
     "solution": false,
     "task": false
    }
   },
   "outputs": [],
   "source": [
    "# This cell contains tests.\n",
    "\n",
    "print(cond_A_psf)\n"
   ]
  },
  {
   "cell_type": "markdown",
   "id": "82eae900",
   "metadata": {
    "deletable": false,
    "editable": false,
    "nbgrader": {
     "cell_type": "markdown",
     "checksum": "30e7e8285148bd6463961bc987f734e3",
     "grade": false,
     "grade_id": "cell-a6c3bd544145a2b6",
     "locked": true,
     "schema_version": 3,
     "solution": false,
     "task": false
    }
   },
   "source": [
    "### Question: Condition number of $A$\n",
    "Is the inversion of the system with `A_psf` stable?"
   ]
  },
  {
   "cell_type": "markdown",
   "id": "0c4a23a6",
   "metadata": {
    "deletable": false,
    "nbgrader": {
     "cell_type": "markdown",
     "checksum": "bae5a0e887a91d35b842437f000547ea",
     "grade": true,
     "grade_id": "a020",
     "locked": false,
     "points": 10,
     "schema_version": 3,
     "solution": true,
     "task": false
    }
   },
   "source": [
    "YOUR ANSWER HERE"
   ]
  },
  {
   "cell_type": "markdown",
   "id": "1c709a5f",
   "metadata": {
    "deletable": false,
    "editable": false,
    "nbgrader": {
     "cell_type": "markdown",
     "checksum": "7bfebe52ca471dc3997932bbf3eede81",
     "grade": false,
     "grade_id": "cell-5f6ca918c084723d",
     "locked": true,
     "schema_version": 3,
     "solution": false,
     "task": false
    }
   },
   "source": [
    "### Singular value decomposition\n",
    "\n",
    "Calculate the singular value decomposition (SVD) of real matrix $A$\n",
    "$$\n",
    "A = USV^T,\n",
    "$$\n",
    "where $UU^T = VV^T = I$, and $S$ is a rectangular diagonal matrix with non-negative real numbers on the diagonal. The entries on the diagonal $\\operatorname{diag}(S)_i$ are the singular values.\n",
    "\n",
    "* Apply the calculation to `A_psf` (using `numpy.linalg.svd()`)\n",
    "* Plot $A$, $U$, $S$ and $V^T$ in order in the subplots of `axs`\n",
    "* Plot the matrices $A$, $U$, and $V^T$ as grayscale images in the corresponding subplots\n",
    "* Show the colorbar of the above three subplots\n",
    "* Plot the singular values $\\operatorname{diag}(S)_i$ as a line in the third subplot\n",
    "* Add proper titles to the subplots of `axs`"
   ]
  },
  {
   "cell_type": "code",
   "execution_count": null,
   "id": "d4d20d79",
   "metadata": {
    "deletable": false,
    "nbgrader": {
     "cell_type": "code",
     "checksum": "6445d1fe39dc94ce57bedd97f4d17b12",
     "grade": true,
     "grade_id": "a030",
     "locked": false,
     "points": 10,
     "schema_version": 3,
     "solution": true,
     "task": false
    }
   },
   "outputs": [],
   "source": [
    "fig, axs = plt.subplots(1, 4, figsize=(15, 5))\n",
    "fig.suptitle('Singular value decomposition')\n",
    "\n",
    "# YOUR CODE HERE\n",
    "raise NotImplementedError()"
   ]
  },
  {
   "cell_type": "code",
   "execution_count": null,
   "id": "faf2299d",
   "metadata": {
    "deletable": false,
    "editable": false,
    "nbgrader": {
     "cell_type": "code",
     "checksum": "5697e4566c734df2316c651141776ea3",
     "grade": true,
     "grade_id": "a040",
     "locked": true,
     "points": 10,
     "schema_version": 3,
     "solution": false,
     "task": false
    }
   },
   "outputs": [],
   "source": [
    "# This cell contains hidden tests.\n"
   ]
  },
  {
   "cell_type": "markdown",
   "id": "4c6c1945",
   "metadata": {
    "deletable": false,
    "editable": false,
    "nbgrader": {
     "cell_type": "markdown",
     "checksum": "ac14ee16ae427ee8b89ad85f0250fba0",
     "grade": false,
     "grade_id": "cell-f435f32b808f8aca",
     "locked": true,
     "schema_version": 3,
     "solution": false,
     "task": false
    }
   },
   "source": [
    "### Condition number of $S$\n",
    "\n",
    "Calculate the condition number of matrix $S$\n",
    "* Apply the calculation to the $S$ from SVD \n",
    "* Save $\\|S\\|_\\text{F}$ in the variable `norm_S_psf` (using `frobenius_norm()`)\n",
    "* Save $\\|S^{-1}\\|_\\text{F}$ in the variable `norm_S_inv` (using `frobenius_norm()`)\n",
    "* Save $\\operatorname{cond}_\\text{F}(S)$ in the variable `cond_S_psf` (`numpy.linalg.cond()` should not be used.)"
   ]
  },
  {
   "cell_type": "code",
   "execution_count": null,
   "id": "b4ae784b",
   "metadata": {
    "deletable": false,
    "nbgrader": {
     "cell_type": "code",
     "checksum": "0d62890f9c0a55750b66e1c087a11048",
     "grade": true,
     "grade_id": "a042",
     "locked": false,
     "points": 2,
     "schema_version": 3,
     "solution": true,
     "task": false
    }
   },
   "outputs": [],
   "source": [
    "# YOUR CODE HERE\n",
    "raise NotImplementedError()"
   ]
  },
  {
   "cell_type": "code",
   "execution_count": null,
   "id": "20e6f8ab",
   "metadata": {
    "deletable": false,
    "editable": false,
    "nbgrader": {
     "cell_type": "code",
     "checksum": "77e9d26ff20c920e5bec8fc823466a80",
     "grade": true,
     "grade_id": "a045",
     "locked": true,
     "points": 3,
     "schema_version": 3,
     "solution": false,
     "task": false
    }
   },
   "outputs": [],
   "source": [
    "# This cell contains tests.\n",
    "\n",
    "print(cond_S_psf)\n"
   ]
  },
  {
   "cell_type": "markdown",
   "id": "cd3f6c79",
   "metadata": {
    "deletable": false,
    "editable": false,
    "nbgrader": {
     "cell_type": "markdown",
     "checksum": "2b2a9499bf374d95131c0c5a57f7ef85",
     "grade": false,
     "grade_id": "cell-2e7a2bed076f86be",
     "locked": true,
     "schema_version": 3,
     "solution": false,
     "task": false
    }
   },
   "source": [
    "### Question: Condition number of $S$\n",
    "Is the equation $\\operatorname{cond}_\\text{F}(A) = \\operatorname{cond}_\\text{F}(S)$ valid? Why?"
   ]
  },
  {
   "cell_type": "markdown",
   "id": "733c9ed5",
   "metadata": {
    "deletable": false,
    "nbgrader": {
     "cell_type": "markdown",
     "checksum": "0f6c2f04a12bc20771e73c711f5de2c2",
     "grade": true,
     "grade_id": "a055",
     "locked": false,
     "points": 10,
     "schema_version": 3,
     "solution": true,
     "task": false
    }
   },
   "source": [
    "YOUR ANSWER HERE"
   ]
  },
  {
   "cell_type": "markdown",
   "id": "d1a9ab00",
   "metadata": {
    "deletable": false,
    "editable": false,
    "nbgrader": {
     "cell_type": "markdown",
     "checksum": "75b93615a3cd3b77ce27ef353dc28ab6",
     "grade": false,
     "grade_id": "cell-b958fb31981d19fc",
     "locked": true,
     "schema_version": 3,
     "solution": false,
     "task": false
    }
   },
   "source": [
    "### Truncated singular values\n",
    "\n",
    "$S_t$ contains the truncated singular values as\n",
    "$$\n",
    "\\operatorname{diag}(S_t)_i = \n",
    "\\begin{cases}\n",
    "    \\operatorname{diag}(S)_i & \\operatorname{diag}(S)_i \\geq \\text{TH}\\\\\n",
    "    1 & \\text{otherwise} \\\\\n",
    "\\end{cases},\n",
    "$$\n",
    "i.e. to set the singular values in $S$ less than the threshold $\\text{TH}$ to $1$.\n",
    "\n",
    "* Set $\\text{TH}$ with $2\\% \\cdot \\max(\\operatorname{diag}(S)_i)$, $10\\% \\cdot \\max(\\operatorname{diag}(S)_i)$, $50\\% \\cdot \\max(\\operatorname{diag}(S)_i)$, respectively\n",
    "* Generate $S_t$\n",
    "* Save $A_t = U S_t V^T$ in the variable `list_A_tsvd` (as `list` of `numpy.array`)\n",
    "* Save $\\operatorname{cond}_\\text{F}(A_t)$ in the variable `list_cond_A_tsvd` (`numpy.linalg.cond()` should not be used.)"
   ]
  },
  {
   "cell_type": "code",
   "execution_count": null,
   "id": "e0316996",
   "metadata": {
    "deletable": false,
    "nbgrader": {
     "cell_type": "code",
     "checksum": "f482287f105974374cba262afafb2725",
     "grade": true,
     "grade_id": "a060",
     "locked": false,
     "points": 5,
     "schema_version": 3,
     "solution": true,
     "task": false
    }
   },
   "outputs": [],
   "source": [
    "# YOUR CODE HERE\n",
    "raise NotImplementedError()"
   ]
  },
  {
   "cell_type": "code",
   "execution_count": null,
   "id": "4eae0640",
   "metadata": {
    "deletable": false,
    "editable": false,
    "nbgrader": {
     "cell_type": "code",
     "checksum": "17d604f8d0ee40c0d73bc5c9aa44561f",
     "grade": true,
     "grade_id": "a070",
     "locked": true,
     "points": 10,
     "schema_version": 3,
     "solution": false,
     "task": false
    }
   },
   "outputs": [],
   "source": [
    "# This cell contains tests.\n",
    "\n",
    "print(list_cond_A_tsvd)\n"
   ]
  },
  {
   "cell_type": "markdown",
   "id": "c547f107",
   "metadata": {
    "deletable": false,
    "editable": false,
    "nbgrader": {
     "cell_type": "markdown",
     "checksum": "429a6747053a8655466772a30ddeab77",
     "grade": false,
     "grade_id": "cell-6452363dc06a529a",
     "locked": true,
     "schema_version": 3,
     "solution": false,
     "task": false
    }
   },
   "source": [
    "### Reconstruction\n",
    "\n",
    "Reconstruct the signal by\n",
    "$$\n",
    "\\tilde{f} = A_t^{-1} g'\n",
    "$$\n",
    "* Apply this operation to the noisy signals in `list_gn`\n",
    "* Return the outputs with different $A_t$ in `list_A_tsvd`\n",
    "* Save the outputs in the variable `list_f_tsvd` (as `list` of `numpy.array`)\n",
    "\n",
    "Display the result\n",
    "* Plot the outputs in `list_f_tsvd` in the same order of the noisy signals in the subplots of `axs`\n",
    "* Show the cases of the same noisy signal in the same subplot column\n",
    "* Show the cases with the same $A_t$ in the same subplot row\n",
    "* Plot the corresponding noisy signal in each subplot (after the filter output)\n",
    "* Plot the input signal `f_true` in each subplot (after the noisy signal)\n",
    "* Show the legend in each subplot\n",
    "* Show the case information in the titles to the subplots"
   ]
  },
  {
   "cell_type": "code",
   "execution_count": null,
   "id": "e72708df",
   "metadata": {
    "deletable": false,
    "nbgrader": {
     "cell_type": "code",
     "checksum": "ec4c7c5780212f1e09a8178468ab9565",
     "grade": true,
     "grade_id": "a080",
     "locked": false,
     "points": 10,
     "schema_version": 3,
     "solution": true,
     "task": false
    }
   },
   "outputs": [],
   "source": [
    "fig, axs = plt.subplots(3, 3, figsize=(15, 15))\n",
    "fig.suptitle('Reconstruction')\n",
    "\n",
    "# YOUR CODE HERE\n",
    "raise NotImplementedError()"
   ]
  },
  {
   "cell_type": "code",
   "execution_count": null,
   "id": "550ba483",
   "metadata": {
    "deletable": false,
    "editable": false,
    "nbgrader": {
     "cell_type": "code",
     "checksum": "b8774e75ea2d4b29915c36240ad92936",
     "grade": true,
     "grade_id": "a090",
     "locked": true,
     "points": 10,
     "schema_version": 3,
     "solution": false,
     "task": false
    }
   },
   "outputs": [],
   "source": [
    "# This cell contains hidden tests.\n"
   ]
  },
  {
   "cell_type": "markdown",
   "id": "1b217b95",
   "metadata": {
    "deletable": false,
    "editable": false,
    "nbgrader": {
     "cell_type": "markdown",
     "checksum": "28b60a1f47304bdd076a7a27d72cb36e",
     "grade": false,
     "grade_id": "cell-f67a6ffe3fdf709c",
     "locked": true,
     "schema_version": 3,
     "solution": false,
     "task": false
    }
   },
   "source": [
    "### Question: Truncated singular values\n",
    "\n",
    "Describe the visual effect on the reconstruction result considering the influence of $\\text{TH}$."
   ]
  },
  {
   "cell_type": "markdown",
   "id": "4c6f744f",
   "metadata": {
    "deletable": false,
    "nbgrader": {
     "cell_type": "markdown",
     "checksum": "195b7079323a714b674fda7b242fa684",
     "grade": true,
     "grade_id": "a100",
     "locked": false,
     "points": 10,
     "schema_version": 3,
     "solution": true,
     "task": false
    }
   },
   "source": [
    "YOUR ANSWER HERE"
   ]
  }
 ],
 "metadata": {
  "kernelspec": {
   "display_name": "Python 3 (ipykernel)",
   "language": "python",
   "name": "python3"
  },
  "language_info": {
   "codemirror_mode": {
    "name": "ipython",
    "version": 3
   },
   "file_extension": ".py",
   "mimetype": "text/x-python",
   "name": "python",
   "nbconvert_exporter": "python",
   "pygments_lexer": "ipython3",
   "version": "3.10.10"
  }
 },
 "nbformat": 4,
 "nbformat_minor": 5
}
