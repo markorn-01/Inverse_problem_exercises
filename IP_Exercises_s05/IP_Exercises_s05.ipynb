{
 "cells": [
  {
   "cell_type": "markdown",
   "id": "ecf3d23f",
   "metadata": {
    "deletable": false,
    "editable": false,
    "nbgrader": {
     "cell_type": "markdown",
     "checksum": "1d8bb5e429e372057e2deba9897b4d5f",
     "grade": false,
     "grade_id": "cell-49b24469f46dfeca",
     "locked": true,
     "schema_version": 3,
     "solution": false,
     "task": false
    }
   },
   "source": [
    "# Inverse Problems Exercises: 2024s s05 (non-physics)\n",
    "https://www.umm.uni-heidelberg.de/miism/"
   ]
  },
  {
   "cell_type": "markdown",
   "id": "6e30cb0f",
   "metadata": {
    "deletable": false,
    "editable": false,
    "nbgrader": {
     "cell_type": "markdown",
     "checksum": "cec4cf272782838191548438284b86fc",
     "grade": false,
     "grade_id": "cell-fa7322d20795c385",
     "locked": true,
     "schema_version": 3,
     "solution": false,
     "task": false
    }
   },
   "source": [
    "## Notes\n",
    "* Please **DO NOT** change the name of the `.ipynb` file. \n",
    "* Please **DO NOT** import extra packages to solve the tasks. \n",
    "* Please put the `.ipynb` file directly into the `.zip` archive without any intermediate folder. "
   ]
  },
  {
   "cell_type": "markdown",
   "id": "bc6444af",
   "metadata": {
    "deletable": false,
    "editable": false,
    "nbgrader": {
     "cell_type": "markdown",
     "checksum": "577de3d815a5433df6d24b2edf6f4512",
     "grade": false,
     "grade_id": "cell-25297d00d0806932",
     "locked": true,
     "schema_version": 3,
     "solution": false,
     "task": false
    }
   },
   "source": [
    "## Please provide your personal information\n",
    "* full name (Name): "
   ]
  },
  {
   "cell_type": "markdown",
   "id": "72ad1b85",
   "metadata": {
    "deletable": false,
    "nbgrader": {
     "cell_type": "markdown",
     "checksum": "6ed66fd19bab168d80c4865c274aecd5",
     "grade": true,
     "grade_id": "cell-2d2bf14a246580e7",
     "locked": false,
     "points": 0,
     "schema_version": 3,
     "solution": true,
     "task": false
    }
   },
   "source": [
    "YOUR ANSWER HERE"
   ]
  },
  {
   "cell_type": "markdown",
   "id": "73002e5e",
   "metadata": {
    "deletable": false,
    "editable": false,
    "nbgrader": {
     "cell_type": "markdown",
     "checksum": "77df11d648554b3e11b101efd35936ff",
     "grade": false,
     "grade_id": "cell-f1875ccbf1bb47f8",
     "locked": true,
     "schema_version": 3,
     "solution": false,
     "task": false
    }
   },
   "source": [
    "## D02b: Tikhonov approach"
   ]
  },
  {
   "cell_type": "code",
   "execution_count": null,
   "id": "cd3c35d8",
   "metadata": {
    "deletable": false,
    "editable": false,
    "nbgrader": {
     "cell_type": "code",
     "checksum": "b87b7e5ec0d49490a2b18934b49102ae",
     "grade": false,
     "grade_id": "cell-83d8e161fbf2ff18",
     "locked": true,
     "schema_version": 3,
     "solution": false,
     "task": false
    }
   },
   "outputs": [],
   "source": [
    "import numpy as np\n",
    "import matplotlib.pyplot as plt"
   ]
  },
  {
   "cell_type": "code",
   "execution_count": null,
   "id": "9b708369",
   "metadata": {
    "deletable": false,
    "editable": false,
    "nbgrader": {
     "cell_type": "code",
     "checksum": "3e8eaab224909eca4a8a29ebe273e0fb",
     "grade": false,
     "grade_id": "cell-8d9cf6f50b630a6d",
     "locked": true,
     "schema_version": 3,
     "solution": false,
     "task": false
    }
   },
   "outputs": [],
   "source": [
    "file_gaussian = 'file_gaussian.npz'\n",
    "with np.load(file_gaussian) as data:\n",
    "    f_true = data['f_true']\n",
    "    A_psf = data['A_psf']\n",
    "    list_gn = data['list_gn']"
   ]
  },
  {
   "cell_type": "markdown",
   "id": "86c88074",
   "metadata": {
    "deletable": false,
    "editable": false,
    "nbgrader": {
     "cell_type": "markdown",
     "checksum": "204bfee0dd3bddb962844db016552568",
     "grade": false,
     "grade_id": "cell-89553368fedfc21d",
     "locked": true,
     "schema_version": 3,
     "solution": false,
     "task": false
    }
   },
   "source": [
    "### Imaging model\n",
    "The imaging model can be represented by\n",
    "$$\n",
    "g = h \\otimes f_\\text{true}\n",
    "= Af_\\text{true}\n",
    "= \\mathcal{F}^{-1}\\{ \\mathcal{F}\\{h\\} \\mathcal{F}\\{f_\\text{true}\\} \\},\n",
    "$$\n",
    "$$\n",
    "g' = g + \\epsilon.\n",
    "$$\n",
    "* $f_\\text{true}$ is the input signal\n",
    "* $h$ is the point spread function (kernel)\n",
    "* $\\otimes$ is the convolution operator\n",
    "* $A$ is the Toeplitz matrix of $h$\n",
    "* $\\mathcal{F}$ and $\\mathcal{F}^{-1}$ are the Fourier transform operator and inverse Fourier transform operator\n",
    "* $\\epsilon$ is the additive Gaussian noise\n",
    "* $g$ is the filtered signal\n",
    "* $g'$ is the noisy signal"
   ]
  },
  {
   "cell_type": "markdown",
   "id": "1b217b95",
   "metadata": {
    "deletable": false,
    "editable": false,
    "nbgrader": {
     "cell_type": "markdown",
     "checksum": "a206cfe4dc676ae739d6696504c398bf",
     "grade": false,
     "grade_id": "cell-f67a6ffe3fdf709c",
     "locked": true,
     "schema_version": 3,
     "solution": false,
     "task": false
    }
   },
   "source": [
    "### Mean squared error\n",
    "Implement the mean squared error (MSE)\n",
    "$$\n",
    "\\operatorname{MSE}(f)=\\frac{1}{n}\\sum_{i=1}^n(f_i - f_{\\text{true}i})^2\n",
    "$$\n",
    "* Given the input signal $f$\n",
    "* Given the true signal $f_\\text{true}$\n",
    "* Implement the function `mean_squared_error()` (using `numpy.array`)"
   ]
  },
  {
   "cell_type": "code",
   "execution_count": null,
   "id": "8c1263c5",
   "metadata": {
    "deletable": false,
    "nbgrader": {
     "cell_type": "code",
     "checksum": "b60b4f169654c590f82f16fb638fc406",
     "grade": false,
     "grade_id": "cell-fdf0b0d5fe745de8",
     "locked": false,
     "schema_version": 3,
     "solution": true,
     "task": false
    }
   },
   "outputs": [],
   "source": [
    "def mean_squared_error(f, f_true):\n",
    "    \"\"\" Compute the mean squared error comparing to the true signal:\n",
    "\n",
    "    :param f: Input signal.\n",
    "    :param f_true: True signal.\n",
    "    :returns: Mean squared error.\n",
    "    \"\"\"\n",
    "# YOUR CODE HERE\n",
    "raise NotImplementedError()"
   ]
  },
  {
   "cell_type": "code",
   "execution_count": null,
   "id": "3e4924f9",
   "metadata": {
    "deletable": false,
    "editable": false,
    "nbgrader": {
     "cell_type": "code",
     "checksum": "f38873ef5b19d35c13440b056749eb44",
     "grade": true,
     "grade_id": "a005",
     "locked": true,
     "points": 5,
     "schema_version": 3,
     "solution": false,
     "task": false
    }
   },
   "outputs": [],
   "source": [
    "# This cell contains hidden tests.\n"
   ]
  },
  {
   "cell_type": "markdown",
   "id": "24b7c035",
   "metadata": {
    "deletable": false,
    "editable": false,
    "nbgrader": {
     "cell_type": "markdown",
     "checksum": "e12ba29b21f4ed6ef132a0c50da888aa",
     "grade": false,
     "grade_id": "cell-8ae5ca9f8024d2a4",
     "locked": true,
     "schema_version": 3,
     "solution": false,
     "task": false
    }
   },
   "source": [
    "### Difference matrix\n",
    "Implement the difference matrix $D_\\text{diff}$\n",
    "$$D_\\text{diff} = \\begin{bmatrix} \n",
    "1 & 0 & 0 & 0 & ... & 0 & -1 \\\\\n",
    "-1 & 1 & 0 & 0 & ... & 0 & 0 \\\\\n",
    "0 & -1 & 1 & 0 & ... & 0 & 0 \\\\\n",
    "  &   &   & ... &   &   & \\\\\n",
    "0 & 0 & 0 & 0 & ... & -1 & 1 \\end{bmatrix}$$\n",
    "* Given the size $n_\\text{diff}$\n",
    "* Note the $-1$ on the top right of the matrix\n",
    "* Implement the function `get_diff_matrix()` (using `numpy.array`)\n",
    "\n",
    "Calculate the difference matrix\n",
    "* Return the outputs of with the size of $10$, $50$, $100$, respectively\n",
    "* Save the outputs in the variable `list_D_diff` (as `list` of `numpy.array`)\n",
    "\n",
    "Display the result\n",
    "* Plot the matrices in `list_D_diff` as grayscale images in the same order of the parameter options in the subplots of `axs`\n",
    "* Show the colorbar of each subplot\n",
    "* Add proper titles to the subplots of `axs`"
   ]
  },
  {
   "cell_type": "code",
   "execution_count": null,
   "id": "5999e95e",
   "metadata": {
    "deletable": false,
    "nbgrader": {
     "cell_type": "code",
     "checksum": "7d40bfbce721e5f8be731c88b9c8ec23",
     "grade": false,
     "grade_id": "cell-d2ea08d17f4692c3",
     "locked": false,
     "schema_version": 3,
     "solution": true,
     "task": false
    }
   },
   "outputs": [],
   "source": [
    "def get_diff_matrix(n):\n",
    "    \"\"\" Compute a matrix to calculate the difference along a vector of the size n\n",
    "    between two neighboring elements.\n",
    "\n",
    "    :param n: Size of the target vector.\n",
    "    :returns: Matrix with shape (n, n), which calculates the difference.\n",
    "    \"\"\"\n",
    "# YOUR CODE HERE\n",
    "raise NotImplementedError()\n",
    "\n",
    "fig, axs = plt.subplots(1, 3, figsize=(15, 5))\n",
    "fig.suptitle('Difference matrix')\n",
    "\n",
    "# YOUR CODE HERE\n",
    "raise NotImplementedError()"
   ]
  },
  {
   "cell_type": "code",
   "execution_count": null,
   "id": "ae1042b4",
   "metadata": {
    "deletable": false,
    "editable": false,
    "nbgrader": {
     "cell_type": "code",
     "checksum": "2b1cfc199f8d217dc58b64ce77bdea20",
     "grade": true,
     "grade_id": "a015",
     "locked": true,
     "points": 10,
     "schema_version": 3,
     "solution": false,
     "task": false
    }
   },
   "outputs": [],
   "source": [
    "# This cell contains hidden tests.\n"
   ]
  },
  {
   "cell_type": "code",
   "execution_count": null,
   "id": "54b47842",
   "metadata": {
    "deletable": false,
    "editable": false,
    "nbgrader": {
     "cell_type": "code",
     "checksum": "fa6675bd00f6e34e7bbc6ef11aca26c0",
     "grade": true,
     "grade_id": "a025",
     "locked": true,
     "points": 10,
     "schema_version": 3,
     "solution": false,
     "task": false
    }
   },
   "outputs": [],
   "source": [
    "# This cell contains hidden tests.\n"
   ]
  },
  {
   "cell_type": "markdown",
   "id": "b83ab99e",
   "metadata": {
    "deletable": false,
    "editable": false,
    "nbgrader": {
     "cell_type": "markdown",
     "checksum": "ce1f78e6061ae2de8c6b89d89291a1bf",
     "grade": false,
     "grade_id": "cell-2ac130fda8cb2e41",
     "locked": true,
     "schema_version": 3,
     "solution": false,
     "task": false
    }
   },
   "source": [
    "### Tikhonov regularization\n",
    "Implement the objective function with Tikhonov regularization\n",
    "$$\n",
    "L(f) = \\|Af - g'\\|_2^2 + \\lambda\\|D'f\\|_2^2\n",
    "$$\n",
    "* Given the input signal $f$\n",
    "* Given the system matrix $A$\n",
    "* Given the measurement $g'$\n",
    "* Given the regularization matrix $D'$\n",
    "* Given the regularization parameter $\\lambda$\n",
    "* Implement the function `objective_tikhonov()` (using `numpy.array`)\n",
    "\n",
    "Implement the closed form solution of the regularized objective function\n",
    "$$\n",
    "\\tilde f = (A^T A + \\lambda D'^T D')^{-1} A^T g' = A_\\lambda^{PI} g'\n",
    "$$\n",
    "* Given the system matrix $A$\n",
    "* Given the measurement $g'$\n",
    "* Given the regularization matrix $D'$\n",
    "* Given the regularization parameter $\\lambda$\n",
    "* Implement the function `solution_tikhonov()` (using `numpy.array`)"
   ]
  },
  {
   "cell_type": "code",
   "execution_count": null,
   "id": "49b86261",
   "metadata": {
    "deletable": false,
    "nbgrader": {
     "cell_type": "code",
     "checksum": "83c36de89cf7b2a4c26400e660d31aee",
     "grade": false,
     "grade_id": "cell-54c7f85aa2f4e338",
     "locked": false,
     "schema_version": 3,
     "solution": true,
     "task": false
    }
   },
   "outputs": [],
   "source": [
    "def objective_tikhonov(f, A, g, D, lb):\n",
    "    \"\"\" Compute the objective function with Tikhonov regularization.\n",
    "    \n",
    "    :param f: Current estimate of the signal.\n",
    "    :param A: 2D matrix of the linear problem.\n",
    "    :param g: Observed signal.\n",
    "    :param D: 2D matrix in the regularization term.\n",
    "    :param lb: Regularization parameter.\n",
    "    :returns: Objective function value.\n",
    "    \"\"\"\n",
    "    # YOUR CODE HERE\n",
    "    raise NotImplementedError()\n",
    "    \n",
    "def solution_tikhonov(A, g, D, lb):\n",
    "    \"\"\" Compute the estimate of the true signal with Tikhonov regularization.\n",
    "\n",
    "    Use a regularization term to suppress noise.\n",
    "\n",
    "    :param A: 2d matrix A of the linear problem.\n",
    "    :param g: Observed signal.\n",
    "    :param D: 2D matrix in the regularization term.\n",
    "    :param lb: Regularization parameter.\n",
    "    :returns: Estimate of the true signal.\n",
    "    \"\"\"\n",
    "# YOUR CODE HERE\n",
    "raise NotImplementedError()"
   ]
  },
  {
   "cell_type": "code",
   "execution_count": null,
   "id": "384fd42c",
   "metadata": {
    "deletable": false,
    "editable": false,
    "nbgrader": {
     "cell_type": "code",
     "checksum": "438b3fa3876beca953483237f4721490",
     "grade": true,
     "grade_id": "a035",
     "locked": true,
     "points": 10,
     "schema_version": 3,
     "solution": false,
     "task": false
    }
   },
   "outputs": [],
   "source": [
    "# This cell contains hidden tests.\n"
   ]
  },
  {
   "cell_type": "code",
   "execution_count": null,
   "id": "5bdab8a8",
   "metadata": {
    "deletable": false,
    "editable": false,
    "nbgrader": {
     "cell_type": "code",
     "checksum": "0268730dab168f3e23efbddd387e8ec7",
     "grade": true,
     "grade_id": "a045",
     "locked": true,
     "points": 10,
     "schema_version": 3,
     "solution": false,
     "task": false
    }
   },
   "outputs": [],
   "source": [
    "# This cell contains hidden tests.\n"
   ]
  },
  {
   "cell_type": "markdown",
   "id": "1f72d481",
   "metadata": {
    "deletable": false,
    "editable": false,
    "nbgrader": {
     "cell_type": "markdown",
     "checksum": "3644f4e86f3084852083392072230f08",
     "grade": false,
     "grade_id": "cell-7568348f82a7866e",
     "locked": true,
     "schema_version": 3,
     "solution": false,
     "task": false
    }
   },
   "source": [
    "### Best fit solution\n",
    "The best fit solution is the solution without regularization, i.e. $D' = 0$\n",
    "* Calculate the closed form solution for the noisy signals in `list_gn`\n",
    "* Save the outputs in the variable `list_f_est` (as `list` of `numpy.array`)\n",
    "\n",
    "Display the result\n",
    "* Plot the outputs in `list_f_est` in the same order of the parameter options in the subplots of `axs`\n",
    "* Plot the corresponding noisy signal in each subplot\n",
    "* Plot the input signal `f_true` in each subplot\n",
    "* Show the legend in each subplot\n",
    "* Show the case information in the titles to the subplots\n",
    "* Show the mean squared error of each output comparing to `f_true` in the titles to the subplots\n",
    "* Show the objective function value of each output in the titles to the subplots"
   ]
  },
  {
   "cell_type": "code",
   "execution_count": null,
   "id": "09eec29e",
   "metadata": {
    "deletable": false,
    "nbgrader": {
     "cell_type": "code",
     "checksum": "23caa579ef1352c390094ae6012bab91",
     "grade": true,
     "grade_id": "a050",
     "locked": false,
     "points": 5,
     "schema_version": 3,
     "solution": true,
     "task": false
    }
   },
   "outputs": [],
   "source": [
    "fig, axs = plt.subplots(1, 3, figsize=(15, 5))\n",
    "fig.suptitle('Best fit solution')\n",
    "\n",
    "# YOUR CODE HERE\n",
    "raise NotImplementedError()"
   ]
  },
  {
   "cell_type": "code",
   "execution_count": null,
   "id": "163ed1cf",
   "metadata": {
    "deletable": false,
    "editable": false,
    "nbgrader": {
     "cell_type": "code",
     "checksum": "5da4633c5cecf41278dabd191ba2cbce",
     "grade": true,
     "grade_id": "a060",
     "locked": true,
     "points": 10,
     "schema_version": 3,
     "solution": false,
     "task": false
    }
   },
   "outputs": [],
   "source": [
    "# This cell contains hidden tests.\n"
   ]
  },
  {
   "cell_type": "markdown",
   "id": "f78c1efa",
   "metadata": {
    "deletable": false,
    "editable": false,
    "nbgrader": {
     "cell_type": "markdown",
     "checksum": "d871866a79f33a0fa93aa0ffd13aa9eb",
     "grade": false,
     "grade_id": "cell-544046a9bb51fcfb",
     "locked": true,
     "schema_version": 3,
     "solution": false,
     "task": false
    }
   },
   "source": [
    "### Question: Noise\n",
    "Why does this solution amplify the noise?"
   ]
  },
  {
   "cell_type": "markdown",
   "id": "4559fdf8",
   "metadata": {
    "deletable": false,
    "nbgrader": {
     "cell_type": "markdown",
     "checksum": "a3bcec9f20884433bc1316a1f8f1b20f",
     "grade": true,
     "grade_id": "a065",
     "locked": false,
     "points": 5,
     "schema_version": 3,
     "solution": true,
     "task": false
    }
   },
   "source": [
    "YOUR ANSWER HERE"
   ]
  },
  {
   "cell_type": "markdown",
   "id": "d1b735f8",
   "metadata": {
    "deletable": false,
    "editable": false,
    "nbgrader": {
     "cell_type": "markdown",
     "checksum": "1e6f54452bc5b2e664c1660bc3f8b57b",
     "grade": false,
     "grade_id": "cell-1bad3a9b5d8a6193",
     "locked": true,
     "schema_version": 3,
     "solution": false,
     "task": false
    }
   },
   "source": [
    "### Minimal length solution\n",
    "The minimal length solution is the solution with $D' = I$\n",
    "* Calculate the closed form solution for the noisy signals in `list_gn`\n",
    "* Return the outputs with $\\lambda$ of $0.1$, $0.01$, $0.001$, respectively \n",
    "* Save the outputs in the variable `list_f_est` (as `list` of `numpy.array`)\n",
    "\n",
    "Display the result\n",
    "* Plot the outputs in `list_f_est` in the same order of the parameter options in the subplots of `axs`\n",
    "* Show the cases of the same noisy signal in the same subplot column\n",
    "* Show the cases with the same $\\lambda$ in the same subplot row\n",
    "* Plot the corresponding noisy signal in each subplot\n",
    "* Plot the input signal `f_true` in each subplot\n",
    "* Show the legend in each subplot\n",
    "* Show the case information in the titles to the subplots\n",
    "* Show the mean squared error of each output comparing to `f_true` in the titles to the subplots\n",
    "* Show the objective function value of each output in the titles to the subplots"
   ]
  },
  {
   "cell_type": "code",
   "execution_count": null,
   "id": "5bb63991",
   "metadata": {
    "deletable": false,
    "nbgrader": {
     "cell_type": "code",
     "checksum": "e8a8a0b6bca99dcdf9fdb857744e3247",
     "grade": true,
     "grade_id": "a070",
     "locked": false,
     "points": 5,
     "schema_version": 3,
     "solution": true,
     "task": false
    }
   },
   "outputs": [],
   "source": [
    "fig, axs = plt.subplots(3, 3, figsize=(15, 15))\n",
    "fig.suptitle('Minimal length solution')\n",
    "\n",
    "# YOUR CODE HERE\n",
    "raise NotImplementedError()"
   ]
  },
  {
   "cell_type": "code",
   "execution_count": null,
   "id": "425094f2",
   "metadata": {
    "deletable": false,
    "editable": false,
    "nbgrader": {
     "cell_type": "code",
     "checksum": "b4e45354138c8c07746fc1cbb316eb99",
     "grade": true,
     "grade_id": "a080",
     "locked": true,
     "points": 10,
     "schema_version": 3,
     "solution": false,
     "task": false
    }
   },
   "outputs": [],
   "source": [
    "# This cell contains hidden tests.\n"
   ]
  },
  {
   "cell_type": "markdown",
   "id": "18eac0e0",
   "metadata": {
    "deletable": false,
    "editable": false,
    "nbgrader": {
     "cell_type": "markdown",
     "checksum": "eeace7421e00ce81e72c5d601aad88f5",
     "grade": false,
     "grade_id": "cell-831c04c138a4e7cf",
     "locked": true,
     "schema_version": 3,
     "solution": false,
     "task": false
    }
   },
   "source": [
    "### Gradient magnitude solution\n",
    "The gradient magnitude solution is the solution with $D' = D_\\text{diff}$\n",
    "* Calculate the closed form solution for the noisy signals in `list_gn`\n",
    "* Return the outputs with $\\lambda$ of $0.1$, $0.01$, $0.001$, respectively \n",
    "* Save the outputs in the variable `list_f_est` (as `list` of `numpy.array`)\n",
    "\n",
    "Display the result\n",
    "* Plot the outputs in `list_f_est` in the same order of the parameter options in the subplots of `axs`\n",
    "* Show the cases of the same noisy signal in the same subplot column\n",
    "* Show the cases with the same $\\lambda$ in the same subplot row\n",
    "* Plot the corresponding noisy signal in each subplot\n",
    "* Plot the input signal `f_true` in each subplot\n",
    "* Show the legend in each subplot\n",
    "* Show the case information in the titles to the subplots\n",
    "* Show the mean squared error of each output comparing to `f_true` in the titles to the subplots\n",
    "* Show the objective function value of each output in the titles to the subplots"
   ]
  },
  {
   "cell_type": "code",
   "execution_count": null,
   "id": "485f8f6d",
   "metadata": {
    "deletable": false,
    "nbgrader": {
     "cell_type": "code",
     "checksum": "0c94ebfa2a4e79513cee5b0f1c06be64",
     "grade": true,
     "grade_id": "a085",
     "locked": false,
     "points": 5,
     "schema_version": 3,
     "solution": true,
     "task": false
    }
   },
   "outputs": [],
   "source": [
    "fig, axs = plt.subplots(3, 3, figsize=(15, 15))\n",
    "fig.suptitle('Gradient magnitude solution')\n",
    "\n",
    "# YOUR CODE HERE\n",
    "raise NotImplementedError()"
   ]
  },
  {
   "cell_type": "code",
   "execution_count": null,
   "id": "a8d187c7",
   "metadata": {
    "deletable": false,
    "editable": false,
    "nbgrader": {
     "cell_type": "code",
     "checksum": "03a8f941c77989433c251fef253e12bb",
     "grade": true,
     "grade_id": "a095",
     "locked": true,
     "points": 10,
     "schema_version": 3,
     "solution": false,
     "task": false
    }
   },
   "outputs": [],
   "source": [
    "# This cell contains hidden tests.\n"
   ]
  },
  {
   "cell_type": "markdown",
   "id": "87f25132",
   "metadata": {
    "deletable": false,
    "editable": false,
    "nbgrader": {
     "cell_type": "markdown",
     "checksum": "a9ffd519b990e63f3946ccf9a74884ab",
     "grade": false,
     "grade_id": "cell-bede8b380b9a796c",
     "locked": true,
     "schema_version": 3,
     "solution": false,
     "task": false
    }
   },
   "source": [
    "### Question: Regularization\n",
    " 1. How can the different reconstruction techniques be characterized when comparing the results, especially for corners or edges?\n",
    " 1. What is the consequence when changing $\\lambda$, especially for very small and very large values, as observed on the solution?"
   ]
  },
  {
   "cell_type": "markdown",
   "id": "b6d3c960",
   "metadata": {
    "deletable": false,
    "nbgrader": {
     "cell_type": "markdown",
     "checksum": "5a601ea243d1bf3d2e48ee26e0ae65a1",
     "grade": true,
     "grade_id": "a100",
     "locked": false,
     "points": 5,
     "schema_version": 3,
     "solution": true,
     "task": false
    }
   },
   "source": [
    "YOUR ANSWER HERE"
   ]
  }
 ],
 "metadata": {
  "kernelspec": {
   "display_name": "Python 3 (ipykernel)",
   "language": "python",
   "name": "python3"
  },
  "language_info": {
   "codemirror_mode": {
    "name": "ipython",
    "version": 3
   },
   "file_extension": ".py",
   "mimetype": "text/x-python",
   "name": "python",
   "nbconvert_exporter": "python",
   "pygments_lexer": "ipython3",
   "version": "3.10.10"
  }
 },
 "nbformat": 4,
 "nbformat_minor": 5
}
