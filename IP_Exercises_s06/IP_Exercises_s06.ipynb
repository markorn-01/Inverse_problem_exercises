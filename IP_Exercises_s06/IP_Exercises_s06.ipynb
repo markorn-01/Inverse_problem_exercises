{
 "cells": [
  {
   "cell_type": "markdown",
   "id": "ecf3d23f",
   "metadata": {
    "deletable": false,
    "editable": false,
    "nbgrader": {
     "cell_type": "markdown",
     "checksum": "e5f15c2dc4425884e992245da3e595d8",
     "grade": false,
     "grade_id": "cell-49b24469f46dfeca",
     "locked": true,
     "schema_version": 3,
     "solution": false,
     "task": false
    }
   },
   "source": [
    "# Inverse Problems Exercises: 2024s s06 (non-physics)\n",
    "https://www.umm.uni-heidelberg.de/miism/"
   ]
  },
  {
   "cell_type": "markdown",
   "id": "6e30cb0f",
   "metadata": {
    "deletable": false,
    "editable": false,
    "nbgrader": {
     "cell_type": "markdown",
     "checksum": "cec4cf272782838191548438284b86fc",
     "grade": false,
     "grade_id": "cell-fa7322d20795c385",
     "locked": true,
     "schema_version": 3,
     "solution": false,
     "task": false
    }
   },
   "source": [
    "## Notes\n",
    "* Please **DO NOT** change the name of the `.ipynb` file. \n",
    "* Please **DO NOT** import extra packages to solve the tasks. \n",
    "* Please put the `.ipynb` file directly into the `.zip` archive without any intermediate folder. "
   ]
  },
  {
   "cell_type": "markdown",
   "id": "bc6444af",
   "metadata": {
    "deletable": false,
    "editable": false,
    "nbgrader": {
     "cell_type": "markdown",
     "checksum": "577de3d815a5433df6d24b2edf6f4512",
     "grade": false,
     "grade_id": "cell-25297d00d0806932",
     "locked": true,
     "schema_version": 3,
     "solution": false,
     "task": false
    }
   },
   "source": [
    "## Please provide your personal information\n",
    "* full name (Name): "
   ]
  },
  {
   "cell_type": "markdown",
   "id": "72ad1b85",
   "metadata": {
    "deletable": false,
    "nbgrader": {
     "cell_type": "markdown",
     "checksum": "6ed66fd19bab168d80c4865c274aecd5",
     "grade": true,
     "grade_id": "cell-2d2bf14a246580e7",
     "locked": false,
     "points": 0,
     "schema_version": 3,
     "solution": true,
     "task": false
    }
   },
   "source": [
    "Quang Minh, Ngo"
   ]
  },
  {
   "cell_type": "markdown",
   "id": "73002e5e",
   "metadata": {
    "deletable": false,
    "editable": false,
    "nbgrader": {
     "cell_type": "markdown",
     "checksum": "4d02d7b68e6b3ef4e44de46fd6523cc0",
     "grade": false,
     "grade_id": "cell-f1875ccbf1bb47f8",
     "locked": true,
     "schema_version": 3,
     "solution": false,
     "task": false
    }
   },
   "source": [
    "## D05b: Pseudo-inverse"
   ]
  },
  {
   "cell_type": "code",
   "execution_count": null,
   "id": "cd3c35d8",
   "metadata": {
    "deletable": false,
    "editable": false,
    "nbgrader": {
     "cell_type": "code",
     "checksum": "f3bcb1a01c34e06da8fe4a9bd505c6a5",
     "grade": false,
     "grade_id": "cell-83d8e161fbf2ff18",
     "locked": true,
     "schema_version": 3,
     "solution": false,
     "task": false
    }
   },
   "outputs": [],
   "source": [
    "import numpy as np\n",
    "import matplotlib.pyplot as plt\n",
    "\n",
    "from scipy.linalg import solve_sylvester"
   ]
  },
  {
   "cell_type": "code",
   "execution_count": null,
   "id": "ab2da6b6",
   "metadata": {
    "deletable": false,
    "editable": false,
    "nbgrader": {
     "cell_type": "code",
     "checksum": "d5f0f16e1e40b7f60b4737e9b40b6bc7",
     "grade": false,
     "grade_id": "cell-13e22ea5cdc29817",
     "locked": true,
     "schema_version": 3,
     "solution": false,
     "task": false
    }
   },
   "outputs": [],
   "source": [
    "file_gaussian = 'file_gaussian.npz'\n",
    "with np.load(file_gaussian) as data:\n",
    "    f_true = data['f_true']\n",
    "    A_psf = data['A_psf']\n",
    "    list_gn = data['list_gn']"
   ]
  },
  {
   "cell_type": "markdown",
   "id": "29ba04c9",
   "metadata": {
    "deletable": false,
    "editable": false,
    "nbgrader": {
     "cell_type": "markdown",
     "checksum": "dc23ba75a1f05a3ba83fa0296d0ff9a4",
     "grade": false,
     "grade_id": "cell-1bcf01e33e327892",
     "locked": true,
     "schema_version": 3,
     "solution": false,
     "task": false
    }
   },
   "source": [
    "### Imaging model\n",
    "The imaging model can be represented by\n",
    "$$\n",
    "g = h \\otimes f_\\text{true}\n",
    "= Af_\\text{true}\n",
    "= \\mathcal{F}^{-1}\\{ \\mathcal{F}\\{h\\} \\mathcal{F}\\{f_\\text{true}\\} \\},\n",
    "$$\n",
    "$$\n",
    "g' = g + \\epsilon.\n",
    "$$\n",
    "* $f_\\text{true}$ is the input signal\n",
    "* $h$ is the point spread function (kernel)\n",
    "* $\\otimes$ is the convolution operator\n",
    "* $A$ is the Toeplitz matrix of $h$\n",
    "* $\\mathcal{F}$ and $\\mathcal{F}^{-1}$ are the Fourier transform operator and inverse Fourier transform operator\n",
    "* $\\epsilon$ is the additive Gaussian noise\n",
    "* $g$ is the filtered signal\n",
    "* $g'$ is the noisy signal"
   ]
  },
  {
   "cell_type": "markdown",
   "id": "70c7a6da",
   "metadata": {
    "deletable": false,
    "editable": false,
    "nbgrader": {
     "cell_type": "markdown",
     "checksum": "513d2409e4f0c9aa714ba679cbf399f7",
     "grade": false,
     "grade_id": "cell-86e480e83faad2c3",
     "locked": true,
     "schema_version": 3,
     "solution": false,
     "task": false
    }
   },
   "source": [
    "### Downsampling\n",
    "* Implement the downsampling matrix\n",
    "$$D_\\text{ds} = \\begin{bmatrix} \n",
    "1 & 0 & 0 & 0 & 0 & ... \\\\\n",
    "0 & 0 & 1 & 0 & 0 & ... \\\\\n",
    "0 & 0 & 0 & 0 & 1 & ... \\\\\n",
    "  &   &   & ... & &     \\end{bmatrix}_{n/2 \\times n}$$\n",
    "* Given the size $n_\\text{ds}$\n",
    "* Implement the function `get_downsampling_matrix()` (using `numpy.array`)\n",
    "\n",
    "Prepare the data with downsampling\n",
    "* Downsample the signal in `list_gn[0]` and save the output in the variable `gn_ds` (as `numpy.array`)\n",
    "* Calculate the system matrix with downsampling with `A_psf` and save the output in the variable `A_ds` (as `numpy.array`)"
   ]
  },
  {
   "cell_type": "code",
   "execution_count": null,
   "id": "da3ee2e6",
   "metadata": {
    "deletable": false,
    "nbgrader": {
     "cell_type": "code",
     "checksum": "1bcfbc70ac60eb452db337d04b9bd0d0",
     "grade": false,
     "grade_id": "cell-47eec6821784b19a",
     "locked": false,
     "schema_version": 3,
     "solution": true,
     "task": false
    }
   },
   "outputs": [],
   "source": [
    "def get_downsampling_matrix(n):\n",
    "    \"\"\" Create downsampling matrix.\n",
    "\n",
    "    :param n: Size of the input signal\n",
    "    :returns: 2d matrix of size (n/2, n)\n",
    "    \"\"\"\n",
    "    matr = np.zeros((n//2, n))\n",
    "    matr[np.arange(n//2), np.arange(0, n, 2)] = 1\n",
    "    return matr\n",
    "\n",
    "n = len(list_gn[0])\n",
    "D_s = get_downsampling_matrix(n)\n",
    "gn_ds = np.dot(D_s, list_gn[0])\n",
    "A_ds = np.dot(D_s, A_psf)"
   ]
  },
  {
   "cell_type": "code",
   "execution_count": null,
   "id": "cb34d5a6",
   "metadata": {
    "deletable": false,
    "editable": false,
    "nbgrader": {
     "cell_type": "code",
     "checksum": "2bb600323323050db9b33cf5a2179801",
     "grade": true,
     "grade_id": "a010",
     "locked": true,
     "points": 10,
     "schema_version": 3,
     "solution": false,
     "task": false
    }
   },
   "outputs": [],
   "source": [
    "# This cell contains hidden tests.\n"
   ]
  },
  {
   "cell_type": "markdown",
   "id": "701d2cff",
   "metadata": {
    "deletable": false,
    "editable": false,
    "nbgrader": {
     "cell_type": "markdown",
     "checksum": "479813fb7e428eff71b9e7ce0c2d5b83",
     "grade": false,
     "grade_id": "cell-544046a9bb51fcfb",
     "locked": true,
     "schema_version": 3,
     "solution": false,
     "task": false
    }
   },
   "source": [
    "### Pseudo-inverse solutions\n",
    "In the structure of Tikhonov regularization, a general solution can be written with a pseudo-inverse $A^{-I}$:\n",
    "$$\n",
    "\\tilde f = A^{-I} g.\n",
    "$$\n",
    "$A^{-I}$ is a matrix satisfying the following expression:\n",
    "$$\n",
    "\\alpha_1 (A^T A) A^{-I} + A^{-I} (\\alpha_2 A A^T + \\alpha_3 \\operatorname{cov}(g)) = (\\alpha_1 + \\alpha_2) A^T,\n",
    "$$\n",
    "where $\\alpha_1$, $\\alpha_2$, $\\alpha_3$ are the specific parameters. Especially,\n",
    "* when $\\alpha_1 = 1$, $\\alpha_2 = 0$, $\\alpha_3 = \\lambda$, $\\operatorname{cov}(g) = I$, it is the damped least squares\n",
    "$$\n",
    "A^{-I} = (A^T A + \\lambda I) ^{-1} A^T ,\n",
    "$$\n",
    "* when $\\alpha_1 = 0$, $\\alpha_2 = 1$, $\\alpha_3 = \\lambda$, $\\operatorname{cov}(g) = I$, it is the damped minimum length\n",
    "$$\n",
    "A^{-I} = A^T (A^T A + \\lambda I) ^{-1} .\n",
    "$$\n",
    "\n",
    "Implement the pseudo-inverse calculation\n",
    "* Given the system matrix $A$\n",
    "* Given the covariance $\\operatorname{cov}(g)$\n",
    "* Given the parameter set $(\\alpha_1, \\alpha_2, \\alpha_3)$\n",
    "* Solving the Sylvester equation (using ```scipy.linalg.solve_sylvester()```)\n",
    "* Implement the function `solve_pseudo_inverse()` (using `numpy.array`)\n",
    "\n",
    "Calculation the pseudo-inverse solutions\n",
    "* Calculate the solutions for the downsampled data `gn_ds` and `A_ds`\n",
    "* Use $\\operatorname{cov}(g) = I$\n",
    "* Use 9 different parameter sets $(\\alpha_1, \\alpha_2, \\alpha_3)$ as follows:\n",
    "$$\n",
    "\\begin{array}{lll}\n",
    " (1, 0, 0),    &(0.5, 0.5, 0),    &(0, 1, 0), \\\\\n",
    " (1, 0, 0.01), &(0.5, 0.5, 0.01), &(0, 1, 0.01), \\\\\n",
    " (1, 0, 0.1),  &(0.5, 0.5, 0.1),  &(0, 1, 0.1) \\\\\n",
    "\\end{array}\n",
    "$$\n",
    "* Save the pseudo-inverse matrices in the variable `list_A_inv` (as `list` of `numpy.array`)\n",
    "* Save the pseudo-inverse solutions in the variable `list_f_inv` (as `list` of `numpy.array`)\n",
    "\n",
    "Display the result\n",
    "* Plot the outputs in `list_f_inv` in the same order of the parameter options in the subplots of `axs`\n",
    "* Plot the noisy signal `gn_ds` at the corresponding space coordinates in each subplot\n",
    "* Plot the input signal `f_true` in each subplot\n",
    "* Show the legend in each subplot\n",
    "* Show the case information in the titles to the subplots"
   ]
  },
  {
   "cell_type": "code",
   "execution_count": null,
   "id": "de8fb868",
   "metadata": {
    "deletable": false,
    "nbgrader": {
     "cell_type": "code",
     "checksum": "be6e14c5463121e6dbd3bd9a7faa8299",
     "grade": true,
     "grade_id": "a020",
     "locked": false,
     "points": 10,
     "schema_version": 3,
     "solution": true,
     "task": false
    }
   },
   "outputs": [],
   "source": [
    "def solve_pseudo_inverse(A, cov_g, alpha):\n",
    "    \"\"\" \n",
    "    :param A: System matrix.\n",
    "    :param cov_g: Covariance of g.\n",
    "    :param alpha: Array of 3 alpha values.\n",
    "    :returns: Pseudo-inverse matrix.\n",
    "    \"\"\"\n",
    "    a = alpha[0] * np.dot(A.T, A)\n",
    "    b = alpha[1] * np.dot(A, A.T) + alpha[2] * cov_g\n",
    "    q = (alpha[0] + alpha[1]) * A.T\n",
    "    return solve_sylvester(a, b, q)\n",
    "\n",
    "cov_g = np.eye(len(gn_ds))\n",
    "params = [\n",
    "    (1, 0, 0), (0.5, 0.5, 0), (0, 1, 0),\n",
    "    (1, 0, 0.01), (0.5, 0.5, 0.01), (0, 1, 0.01),\n",
    "    (1, 0, 0.1), (0.5, 0.5, 0.1), (0, 1, 0.1)\n",
    "    ]\n",
    "list_A_inv = []\n",
    "list_f_inv = []\n",
    "for param in params:\n",
    "    A_inv = solve_pseudo_inverse(A_ds, cov_g, param)\n",
    "    f_inv = np.dot(A_inv, gn_ds)\n",
    "    list_A_inv.append(np.array(A_inv))\n",
    "    list_f_inv.append(np.array(f_inv))\n",
    "    \n",
    "fig, axs = plt.subplots(3, 3, figsize=(15, 15))\n",
    "fig.suptitle('Pseudo-inverse solutions')\n",
    "\n",
    "for i, (f_inv, param) in enumerate(zip(list_f_inv, params)):\n",
    "    row = i // 3\n",
    "    col = i % 3\n",
    "    axs[row, col].plot(f_true, label='True Signal')\n",
    "    axs[row, col].plot(f_inv, label='Pseudo-inverse Solution')\n",
    "    axs[row, col].scatter(np.arange(len(gn_ds)) * 2, gn_ds, color='red', label='Noisy Signal')\n",
    "    axs[row, col].legend()\n",
    "    axs[row, col].set_title(f'α1={param[0]}, α2={param[1]}, α3={param[2]}')\n",
    "\n",
    "plt.show()"
   ]
  },
  {
   "cell_type": "code",
   "execution_count": null,
   "id": "0453ad9b",
   "metadata": {
    "deletable": false,
    "editable": false,
    "nbgrader": {
     "cell_type": "code",
     "checksum": "f70b08d43eaa1febab08e29498daa515",
     "grade": true,
     "grade_id": "a030",
     "locked": true,
     "points": 10,
     "schema_version": 3,
     "solution": false,
     "task": false
    }
   },
   "outputs": [],
   "source": [
    "# This cell contains hidden tests.\n"
   ]
  },
  {
   "cell_type": "code",
   "execution_count": null,
   "id": "b9b777a8",
   "metadata": {
    "deletable": false,
    "editable": false,
    "nbgrader": {
     "cell_type": "code",
     "checksum": "5697e4566c734df2316c651141776ea3",
     "grade": true,
     "grade_id": "a040",
     "locked": true,
     "points": 10,
     "schema_version": 3,
     "solution": false,
     "task": false
    }
   },
   "outputs": [],
   "source": [
    "# This cell contains hidden tests.\n"
   ]
  },
  {
   "cell_type": "markdown",
   "id": "5f96529f",
   "metadata": {
    "deletable": false,
    "editable": false,
    "nbgrader": {
     "cell_type": "markdown",
     "checksum": "cfc0cae1fe6930c5d99b8e5b016fe5a3",
     "grade": false,
     "grade_id": "cell-44097c29f20f2745",
     "locked": true,
     "schema_version": 3,
     "solution": false,
     "task": false
    }
   },
   "source": [
    "### Question: Bias\n",
    "In which result do you observe the bias of the solution?\n",
    "  - Bias means that the amplitude of the signal is changed in the solution."
   ]
  },
  {
   "cell_type": "markdown",
   "id": "49274ee5",
   "metadata": {
    "deletable": false,
    "nbgrader": {
     "cell_type": "markdown",
     "checksum": "f59c22d4b582daad99c4eb34b0b488a0",
     "grade": true,
     "grade_id": "a045",
     "locked": false,
     "points": 5,
     "schema_version": 3,
     "solution": true,
     "task": false
    }
   },
   "source": [
    "YOUR ANSWER HERE\n",
    "\n",
    "For cases 0, 1, and 2 with $α_3 = 0$, especially case 0, the MSE of them are the highest, indicating the most significant bias of the solution. This also means the the amplitude of the signal is changed the most to the true signal."
   ]
  },
  {
   "cell_type": "code",
   "execution_count": null,
   "id": "1b0903fe",
   "metadata": {},
   "outputs": [],
   "source": [
    "list_mse = [np.mean((f_true-f_inv)**2) for f_inv in list_f_inv]\n",
    "print('MSE for each case:')\n",
    "for i, param in enumerate(params):\n",
    "    print(f'Case {i}: α1={param[0]:<4} α2={param[1]:<4} α3={param[2]:<5}: {list_mse[i]}')"
   ]
  },
  {
   "cell_type": "markdown",
   "id": "29298f43",
   "metadata": {
    "deletable": false,
    "editable": false,
    "nbgrader": {
     "cell_type": "markdown",
     "checksum": "6592034a25f9de0f05ec3c3dd4962737",
     "grade": false,
     "grade_id": "cell-f9f10f652172ac76",
     "locked": true,
     "schema_version": 3,
     "solution": false,
     "task": false
    }
   },
   "source": [
    "### Resolution matrices and covariance matrix\n",
    "The related matrices, i.e. the data resolution matrix $N$, the model resolution matrix $R$ and the covariance matrix $\\operatorname{cov}(f)$, are defined as follows:\n",
    "$$\n",
    "\\begin{align*}\n",
    "N &= A A^{-I} \\\\\n",
    "R &= A^{-I} A \\\\\n",
    "\\operatorname{cov}(f) &= A^{-I} \\operatorname{cov}(g) (A^{-I})^T \\\\\n",
    "\\end{align*}\n",
    "$$\n",
    "* Given $A$, $A^{-I}$, $\\operatorname{cov}(g)$\n",
    "* Implement the function `get_data_resolution_matrix()` (using `numpy.array`)\n",
    "* Implement the function `get_model_resolution_matrix()` (using `numpy.array`)\n",
    "* Implement the function `get_cov_f()` (using `numpy.array`)\n",
    "\n",
    "Calculate the matrices\n",
    "* Calculate the matrices for the pseudo-inverse matrices in `list_A_inv`\n",
    "* Save the data resolution matrices $N$ in the variable `list_N` (as `list` of `numpy.array`)\n",
    "* Save the model resolution matrices $R$ in the variable `list_R` (as `list` of `numpy.array`)\n",
    "* Save the covariance matrices $\\operatorname{cov}(f)$ in the variable `list_cov_f` (as `list` of `numpy.array`)\n",
    "\n",
    "Display the result\n",
    "* Plot the matrices in `list_N` as images in the same order of the parameter options in the subplots of `axs_N`\n",
    "* Plot the matrices in `list_R` as images in the same order of the parameter options in the subplots of `axs_R`\n",
    "* Plot the matrices in `list_cov_f` as images in the same order of the parameter options in the subplots of `axs_cov_F`\n",
    "* Show the colorbar of each subplot\n",
    "* Show the case information in the titles to the subplots"
   ]
  },
  {
   "cell_type": "code",
   "execution_count": null,
   "id": "76380966",
   "metadata": {
    "deletable": false,
    "nbgrader": {
     "cell_type": "code",
     "checksum": "3614a995f33fe3d6b39e3a3c0d8e7733",
     "grade": true,
     "grade_id": "a055",
     "locked": false,
     "points": 10,
     "schema_version": 3,
     "solution": true,
     "task": false
    }
   },
   "outputs": [],
   "source": [
    "def get_data_resolution_matrix(A, A_I):\n",
    "    \"\"\"\n",
    "    :param A: System matrix.\n",
    "    :param A_I: Pseudo-inverse matrix.\n",
    "    :returns: Data resolutin matrix.\n",
    "    \"\"\"\n",
    "    return np.dot(A, A_I)\n",
    "\n",
    "def get_model_resolution_matrix(A, A_I):\n",
    "    \"\"\"\n",
    "    :param A: System matrix.\n",
    "    :param A_I: Pseudo-inverse matrix.\n",
    "    :returns: Model resolutin matrix.\n",
    "    \"\"\"\n",
    "    return np.dot(A_I, A)\n",
    "\n",
    "def get_cov_f(cov_g, A_I):\n",
    "    \"\"\"\n",
    "    :param cov_g: Covariance of g.\n",
    "    :param A_I: Pseudo-inverse matrix.\n",
    "    :returns: Covariance of f.\n",
    "    \"\"\"\n",
    "    return np.dot(A_I, np.dot(cov_g, A_I.T))\n",
    "\n",
    "list_N = [get_data_resolution_matrix(A_ds, A_inv) for A_inv in list_A_inv]\n",
    "list_R = [get_model_resolution_matrix(A_ds, A_inv) for A_inv in list_A_inv]\n",
    "list_cov_f = [get_cov_f(cov_g, A_inv) for A_inv in list_A_inv]\n",
    "\n",
    "fig, axs_N = plt.subplots(3, 3, figsize=(15, 15))\n",
    "fig.suptitle('Data resolution matrix (N)')\n",
    "\n",
    "    \n",
    "fig, axs_R = plt.subplots(3, 3, figsize=(15, 15))\n",
    "fig.suptitle('Model resolution matrix (R)')\n",
    "fig.patch.set_alpha(0.3)\n",
    "\n",
    "    \n",
    "fig, axs_cov_f = plt.subplots(3, 3, figsize=(15, 15))\n",
    "fig.suptitle('Covariance f')\n",
    "\n",
    "for i, (N, R, cov_f, param) in enumerate(zip(list_N, list_R, list_cov_f, params)):\n",
    "    row = i // 3\n",
    "    col = i % 3\n",
    "    \n",
    "    im_N = axs_N[row, col].imshow(N, aspect='auto')\n",
    "    axs_N[row, col].set_title(f'α1={param[0]}, α2={param[1]}, α3={param[2]}')\n",
    "    fig.colorbar(im_N, ax=axs_N[row, col])\n",
    "    \n",
    "    im_R = axs_R[row, col].imshow(R, aspect='auto')\n",
    "    axs_R[row, col].set_title(f'α1={param[0]}, α2={param[1]}, α3={param[2]}')\n",
    "    fig.colorbar(im_R, ax=axs_R[row, col])\n",
    "    \n",
    "    im_cov_f = axs_cov_f[row, col].imshow(cov_f, aspect='auto')\n",
    "    axs_cov_f[row, col].set_title(f'α1={param[0]}, α2={param[1]}, α3={param[2]}')\n",
    "    fig.colorbar(im_cov_f, ax=axs_cov_f[row, col])\n",
    "\n",
    "plt.show()\n",
    "    \n",
    "# * some points\n",
    "#   - Check whether the colorbar is shown\n",
    "#   - Check whether the titles are correct"
   ]
  },
  {
   "cell_type": "code",
   "execution_count": null,
   "id": "a10e6b75",
   "metadata": {
    "deletable": false,
    "editable": false,
    "nbgrader": {
     "cell_type": "code",
     "checksum": "650a151800c2056012563a82ea650fe0",
     "grade": true,
     "grade_id": "a065",
     "locked": true,
     "points": 10,
     "schema_version": 3,
     "solution": false,
     "task": false
    }
   },
   "outputs": [],
   "source": [
    "# This cell contains hidden tests.\n"
   ]
  },
  {
   "cell_type": "code",
   "execution_count": null,
   "id": "cd8fee87",
   "metadata": {
    "deletable": false,
    "editable": false,
    "nbgrader": {
     "cell_type": "code",
     "checksum": "c5dd4d890513fdf56a817c060be2117f",
     "grade": true,
     "grade_id": "a075",
     "locked": true,
     "points": 10,
     "schema_version": 3,
     "solution": false,
     "task": false
    }
   },
   "outputs": [],
   "source": [
    "# This cell contains hidden tests.\n"
   ]
  },
  {
   "cell_type": "markdown",
   "id": "circular-roommate",
   "metadata": {
    "deletable": false,
    "editable": false,
    "nbgrader": {
     "cell_type": "markdown",
     "checksum": "7da4627f0ee96de2a6d7d85dbb11a1d1",
     "grade": false,
     "grade_id": "cell-65ba46540d29d67f",
     "locked": true,
     "schema_version": 3,
     "solution": false,
     "task": false
    }
   },
   "source": [
    "### Characteristics\n",
    "The characteristics, i.e. the spread of a matrix $\\operatorname{spread}()$ and the signal size $\\operatorname{size}()$, are defined as follows:\n",
    "$$\n",
    "\\begin{align*}\n",
    "\\operatorname{spread}(B) &= \\| B - I \\|_2^2 = \\sum_{ij}(B_{ij} - \\delta_{ij})^2 \\\\\n",
    "\\operatorname{size}(f) &= \\sum_i \\operatorname{cov}(f)_{ii} \\\\\n",
    "\\end{align*}\n",
    "$$\n",
    "* Implement the function `get_spread()` (using `numpy.array`)\n",
    "* Implement the function `get_size()` (using `numpy.array`)\n",
    "\n",
    "Calculate the characteristics\n",
    "* Calculate the characteristics for the matrices in `list_N`, `list_R`, `list_cov_f`\n",
    "* Save the spread $\\operatorname{spread}(N)$ in the variable `list_spread_N` (as `list`)\n",
    "* Save the spread $\\operatorname{spread}(R)$ in the variable `list_spread_R` (as `list`)\n",
    "* Save the size $\\operatorname{size}(f)$ in the variable `list_size_f` (as `list`)\n",
    "* Save the case index corresponding to the minimal $\\operatorname{spread}(N)$ in the variable `idx_spread_N` (as `scalar`)\n",
    "* Save the case index corresponding to the minimal $\\operatorname{spread}(R)$ in the variable `idx_spread_R` (as `scalar`)\n",
    "* Save the case index corresponding to the minimal $\\operatorname{size}(f)$ in the variable `idx_size_f` (as `scalar`)\n",
    "\n",
    "Display the result\n",
    "* Plot the value pairs in `list_spread_N` and `list_spread_R` as 2D scatter points in different colors in the left subplot of `axs`\n",
    "* Plot the value pairs in `list_spread_R` and `list_size_f` as 2D scatter points in different colors in the middle subplot of `axs`\n",
    "* Plot the value pairs in `list_size_f` and `list_spread_N` as 2D scatter points in different colors in the right subplot of `axs`\n",
    "* Show the legend in each subplot\n",
    "* Show the case information and point values in the legend\n",
    "* Highlight the cases corresponding to the minimal values in the legend"
   ]
  },
  {
   "cell_type": "code",
   "execution_count": null,
   "id": "a93e0812",
   "metadata": {
    "deletable": false,
    "nbgrader": {
     "cell_type": "code",
     "checksum": "ca4e68332904cae670f5f1814a036e42",
     "grade": true,
     "grade_id": "a085",
     "locked": false,
     "points": 10,
     "schema_version": 3,
     "solution": true,
     "task": false
    }
   },
   "outputs": [],
   "source": [
    "def get_spread(B):\n",
    "    \"\"\" \n",
    "    :param B: Input matrix.\n",
    "    :returns: Spread of the input matrix.\n",
    "    \"\"\"\n",
    "    I = np.eye(B.shape[0])\n",
    "    return np.linalg.norm(B - I)**2\n",
    "\n",
    "def get_size(cov_f):\n",
    "    \"\"\" \n",
    "    :param cov_f: Covariance of f.\n",
    "    :returns: Size of f.\n",
    "    \"\"\"\n",
    "    return np.trace(cov_f)\n",
    "\n",
    "list_spread_N = [get_spread(N) for N in list_N]\n",
    "list_spread_R = [get_spread(R) for R in list_R]\n",
    "list_size_f = [get_size(cov_f) for cov_f in list_cov_f]\n",
    "\n",
    "idx_spread_N = np.argmin(list_spread_N)\n",
    "idx_spread_R = np.argmin(list_spread_R)\n",
    "idx_size_f = np.argmin(list_size_f)\n",
    "\n",
    "fig, axs = plt.subplots(1, 3, figsize=(15, 5))\n",
    "fig.suptitle('Characteristics')\n",
    "\n",
    "# Colors for each case\n",
    "colors = ['b', 'g', 'r', 'c', 'm', 'y', 'k']\n",
    "\n",
    "# Plotting list_spread_N vs list_spread_R\n",
    "\n",
    "# Scatter each case with a different color and legend entry\n",
    "for idx, (n, r) in enumerate(zip(list_spread_N, list_spread_R)):\n",
    "    if idx == idx_spread_N:\n",
    "        color = 'r'\n",
    "        label = f'Case {idx+1}: Min Spread N'\n",
    "        s = 100\n",
    "    else:\n",
    "        color = colors[idx % len(colors)]\n",
    "        label = f'Case {idx+1}'\n",
    "        s = 10\n",
    "    axs[0].scatter(n, r, c=color, label=label)\n",
    "\n",
    "axs[0].set_xlabel('Spread(N)')\n",
    "axs[0].set_ylabel('Spread(R)')\n",
    "axs[0].legend()\n",
    "axs[0].set_title('Spread(N) vs Spread(R)')\n",
    "\n",
    "\n",
    "# Plotting list_spread_R vs list_size_f\n",
    "# Scatter each case with a different color and legend entry\n",
    "for idx, (r, f) in enumerate(zip(list_spread_R, list_size_f)):\n",
    "    if idx == idx_spread_R:\n",
    "        color = 'r'\n",
    "        label = f'Case {idx+1}: Min Spread R'\n",
    "        s = 100\n",
    "    else:\n",
    "        color = colors[idx % len(colors)]\n",
    "        label = f'Case {idx+1}'\n",
    "        s = 10\n",
    "    axs[1].scatter(r, f, c=color, label=label)\n",
    "axs[1].set_xlabel('Spread(R)')\n",
    "axs[1].set_ylabel('Size(f)')\n",
    "axs[1].legend()\n",
    "axs[1].set_title('Spread(R) vs Size(f)')\n",
    "\n",
    "# Plotting list_size_f vs list_spread_N\n",
    "for idx, (f, n) in enumerate(zip(list_size_f, list_spread_N)):\n",
    "    if idx == idx_size_f:\n",
    "        color = 'r'\n",
    "        label = f'Case {idx+1}: Min Size f'\n",
    "        s = 100\n",
    "    else:\n",
    "        color = colors[idx % len(colors)]\n",
    "        label = f'Case {idx+1}'\n",
    "        s = 10\n",
    "    axs[2].scatter(f, n, c=color, label=label)\n",
    "axs[2].set_xlabel('Size(f)')\n",
    "axs[2].set_ylabel('Spread(N)')\n",
    "axs[2].legend()\n",
    "axs[2].set_title('Size(f) vs Spread(N)')\n",
    "plt.show()\n"
   ]
  },
  {
   "cell_type": "code",
   "execution_count": null,
   "id": "93bf9798",
   "metadata": {
    "deletable": false,
    "editable": false,
    "nbgrader": {
     "cell_type": "code",
     "checksum": "03a8f941c77989433c251fef253e12bb",
     "grade": true,
     "grade_id": "a095",
     "locked": true,
     "points": 10,
     "schema_version": 3,
     "solution": false,
     "task": false
    }
   },
   "outputs": [],
   "source": [
    "# This cell contains hidden tests.\n"
   ]
  },
  {
   "cell_type": "markdown",
   "id": "befc7491",
   "metadata": {
    "deletable": false,
    "editable": false,
    "nbgrader": {
     "cell_type": "markdown",
     "checksum": "5206ab5e717511366717ecd60dc6d671",
     "grade": false,
     "grade_id": "cell-d8fd1170cf16637b",
     "locked": true,
     "schema_version": 3,
     "solution": false,
     "task": false
    }
   },
   "source": [
    "### Question: Selection\n",
    "Which pseudo inverse do you prefer to minimize $\\operatorname{spread}(N) + \\operatorname{spread}(R)+ \\operatorname{size}(f)$?"
   ]
  },
  {
   "cell_type": "markdown",
   "id": "de17f13f",
   "metadata": {
    "deletable": false,
    "nbgrader": {
     "cell_type": "markdown",
     "checksum": "5a601ea243d1bf3d2e48ee26e0ae65a1",
     "grade": true,
     "grade_id": "a100",
     "locked": false,
     "points": 5,
     "schema_version": 3,
     "solution": true,
     "task": false
    }
   },
   "source": [
    "YOUR ANSWER HERE\n",
    "\n",
    "As executing an operation to calculate each sum for triple ($\\operatorname{spread}(N), \\operatorname{spread}(R), \\operatorname{size}(f)$), I find that case index 8 where $α_1 = 0, α_2 = 1$, and $α_3 = 0.1$ gives the minimum result for above sum."
   ]
  },
  {
   "cell_type": "code",
   "execution_count": null,
   "id": "f8dc3d11",
   "metadata": {},
   "outputs": [],
   "source": [
    "sum_list = [N + R + cov_f for N, R, cov_f in zip(list_spread_N, list_spread_R, list_size_f)]\n",
    "idx_sum = np.argmin(sum_list)\n",
    "print(f'Index of minimum sum: {idx_sum}')\n",
    "print(f'Parameters for minimize Spread(N) + Spread(R) + Size(f): α1={params[idx_sum][0]}, α2={params[idx_sum][1]}, α3={params[idx_sum][2]}')"
   ]
  }
 ],
 "metadata": {
  "kernelspec": {
   "display_name": "Python 3 (ipykernel)",
   "language": "python",
   "name": "python3"
  },
  "language_info": {
   "codemirror_mode": {
    "name": "ipython",
    "version": 3
   },
   "file_extension": ".py",
   "mimetype": "text/x-python",
   "name": "python",
   "nbconvert_exporter": "python",
   "pygments_lexer": "ipython3",
   "version": "3.10.14"
  }
 },
 "nbformat": 4,
 "nbformat_minor": 5
}
